{
  "cells": [
    {
      "cell_type": "markdown",
      "metadata": {
        "id": "view-in-github",
        "colab_type": "text"
      },
      "source": [
        "<a href=\"https://colab.research.google.com/github/carlosenriquez/EJERCICIO-WS-FECHAS/blob/master/Copia_de_Investigacio%CC%81n_RELIEF_Version_Mayo.ipynb\" target=\"_parent\"><img src=\"https://colab.research.google.com/assets/colab-badge.svg\" alt=\"Open In Colab\"/></a>"
      ]
    },
    {
      "cell_type": "code",
      "execution_count": 1,
      "metadata": {
        "id": "3724fd26"
      },
      "outputs": [],
      "source": [
        "import pandas as pd\n",
        "import numpy as np\n",
        "import seaborn as sns\n",
        "import matplotlib.pyplot as plt\n",
        "from google.colab import drive"
      ],
      "id": "3724fd26"
    },
    {
      "cell_type": "code",
      "execution_count": 2,
      "metadata": {
        "colab": {
          "base_uri": "https://localhost:8080/"
        },
        "id": "5df16a38",
        "outputId": "b8b59fda-9003-47a0-f0cd-5293dd9202fc"
      },
      "outputs": [
        {
          "output_type": "stream",
          "name": "stdout",
          "text": [
            "Mounted at /content/drive\n"
          ]
        }
      ],
      "source": [
        "drive.mount('/content/drive')"
      ],
      "id": "5df16a38"
    },
    {
      "cell_type": "code",
      "execution_count": 3,
      "metadata": {
        "id": "2zUcuvkORIEO"
      },
      "outputs": [],
      "source": [
        "union=pd.read_csv('/content/drive/MyDrive/Informacion/data.csv')"
      ],
      "id": "2zUcuvkORIEO"
    },
    {
      "cell_type": "code",
      "execution_count": 4,
      "metadata": {
        "colab": {
          "base_uri": "https://localhost:8080/"
        },
        "id": "oZCyV7B-Rvi8",
        "outputId": "83878a8d-13ce-4a98-d86c-27db359d854e"
      },
      "outputs": [
        {
          "output_type": "execute_result",
          "data": {
            "text/plain": [
              "(188, 50)"
            ]
          },
          "metadata": {},
          "execution_count": 4
        }
      ],
      "source": [
        "union.shape"
      ],
      "id": "oZCyV7B-Rvi8"
    },
    {
      "cell_type": "code",
      "execution_count": 5,
      "metadata": {
        "id": "0af691ec"
      },
      "outputs": [],
      "source": [
        "union=union.drop(['Nombre de usuario'], axis=1)"
      ],
      "id": "0af691ec"
    },
    {
      "cell_type": "code",
      "execution_count": 6,
      "metadata": {
        "colab": {
          "base_uri": "https://localhost:8080/",
          "height": 609
        },
        "id": "f6a175a3",
        "outputId": "fcfec03f-c369-4799-d8b3-53d27511fd69"
      },
      "outputs": [
        {
          "output_type": "execute_result",
          "data": {
            "text/plain": [
              "     Afabilidad  Apertura a culturas  Apertura a la experiencia  \\\n",
              "0          76.0                 34.0                       37.0   \n",
              "1          76.0                 34.0                       37.0   \n",
              "2          73.0                 37.0                       41.0   \n",
              "3          78.0                 40.0                       38.0   \n",
              "4          70.0                 42.0                       38.0   \n",
              "..          ...                  ...                        ...   \n",
              "183        73.0                 42.0                       51.0   \n",
              "184        73.0                 42.0                       51.0   \n",
              "185        89.0                 40.0                       49.0   \n",
              "186        89.0                 40.0                       49.0   \n",
              "187        73.0                 36.0                       38.0   \n",
              "\n",
              "     Aperutura mental  Control de Emociones  Control de impulsos  Cooperaci—n  \\\n",
              "0                71.0                  39.0                 38.0         39.0   \n",
              "1                71.0                  39.0                 38.0         39.0   \n",
              "2                78.0                  38.0                 37.0         39.0   \n",
              "3                78.0                  33.0                 38.0         40.0   \n",
              "4                80.0                  29.0                 36.0         34.0   \n",
              "..                ...                   ...                  ...          ...   \n",
              "183              93.0                  34.0                 35.0         36.0   \n",
              "184              93.0                  34.0                 35.0         36.0   \n",
              "185              89.0                  31.0                 39.0         43.0   \n",
              "186              89.0                  31.0                 39.0         43.0   \n",
              "187              74.0                  33.0                 36.0         39.0   \n",
              "\n",
              "     Cordialidad  Dinamismo  Dominancia  ...  \\\n",
              "0           37.0       39.0        34.0  ...   \n",
              "1           37.0       39.0        34.0  ...   \n",
              "2           34.0       34.0        37.0  ...   \n",
              "3           38.0       33.0        38.0  ...   \n",
              "4           36.0       31.0        34.0  ...   \n",
              "..           ...        ...         ...  ...   \n",
              "183         37.0       43.0        49.0  ...   \n",
              "184         37.0       43.0        49.0  ...   \n",
              "185         46.0       51.0        33.0  ...   \n",
              "186         46.0       51.0        33.0  ...   \n",
              "187         34.0       38.0        35.0  ...   \n",
              "\n",
              "     Te sientes motivado por los logros en las clases de programacion de computadoras  \\\n",
              "0                                                    3                                  \n",
              "1                                                    2                                  \n",
              "2                                                    3                                  \n",
              "3                                                    3                                  \n",
              "4                                                    3                                  \n",
              "..                                                 ...                                  \n",
              "183                                                  5                                  \n",
              "184                                                  5                                  \n",
              "185                                                  4                                  \n",
              "186                                                  5                                  \n",
              "187                                                  2                                  \n",
              "\n",
              "     Te sientes nervioso en las evaluaciones de programacion de computadoras  \\\n",
              "0                                                    3                         \n",
              "1                                                    4                         \n",
              "2                                                    5                         \n",
              "3                                                    4                         \n",
              "4                                                    4                         \n",
              "..                                                 ...                         \n",
              "183                                                  5                         \n",
              "184                                                  4                         \n",
              "185                                                  2                         \n",
              "186                                                  1                         \n",
              "187                                                  4                         \n",
              "\n",
              "     Te surge el interes por la materia de programacion de computadoras  \\\n",
              "0                                                    2                    \n",
              "1                                                    3                    \n",
              "2                                                    3                    \n",
              "3                                                    3                    \n",
              "4                                                    3                    \n",
              "..                                                 ...                    \n",
              "183                                                  4                    \n",
              "184                                                  5                    \n",
              "185                                                  4                    \n",
              "186                                                  4                    \n",
              "187                                                  4                    \n",
              "\n",
              "     Tienes internet en casa  \\\n",
              "0                          1   \n",
              "1                          1   \n",
              "2                          1   \n",
              "3                          1   \n",
              "4                          0   \n",
              "..                       ...   \n",
              "183                        1   \n",
              "184                        1   \n",
              "185                        0   \n",
              "186                        0   \n",
              "187                        1   \n",
              "\n",
              "     Tienes tiempo para practicar la programacion de computadoras  \\\n",
              "0                                                    3              \n",
              "1                                                    2              \n",
              "2                                                    3              \n",
              "3                                                    3              \n",
              "4                                                    2              \n",
              "..                                                 ...              \n",
              "183                                                  3              \n",
              "184                                                  3              \n",
              "185                                                  3              \n",
              "186                                                  2              \n",
              "187                                                  3              \n",
              "\n",
              "     Cociente Intelectual  Grupo  Numero de respuestas correctas  Percentil  \\\n",
              "0                       3      4                              43         25   \n",
              "1                       3      4                              43         25   \n",
              "2                       1      2                              53         75   \n",
              "3                       1      2                              51         75   \n",
              "4                       3      4                              44         25   \n",
              "..                    ...    ...                             ...        ...   \n",
              "183                     2      3                              45         50   \n",
              "184                     2      3                              45         50   \n",
              "185                     2      3                              46         50   \n",
              "186                     2      3                              46         50   \n",
              "187                     3      5                              34          5   \n",
              "\n",
              "     Promedio  \n",
              "0        1.67  \n",
              "1        1.67  \n",
              "2        7.33  \n",
              "3        8.33  \n",
              "4        8.00  \n",
              "..        ...  \n",
              "183      9.67  \n",
              "184      9.67  \n",
              "185      7.00  \n",
              "186      7.00  \n",
              "187      8.33  \n",
              "\n",
              "[188 rows x 49 columns]"
            ],
            "text/html": [
              "\n",
              "  <div id=\"df-b925bbd4-276d-46a5-8006-97f07d515054\">\n",
              "    <div class=\"colab-df-container\">\n",
              "      <div>\n",
              "<style scoped>\n",
              "    .dataframe tbody tr th:only-of-type {\n",
              "        vertical-align: middle;\n",
              "    }\n",
              "\n",
              "    .dataframe tbody tr th {\n",
              "        vertical-align: top;\n",
              "    }\n",
              "\n",
              "    .dataframe thead th {\n",
              "        text-align: right;\n",
              "    }\n",
              "</style>\n",
              "<table border=\"1\" class=\"dataframe\">\n",
              "  <thead>\n",
              "    <tr style=\"text-align: right;\">\n",
              "      <th></th>\n",
              "      <th>Afabilidad</th>\n",
              "      <th>Apertura a culturas</th>\n",
              "      <th>Apertura a la experiencia</th>\n",
              "      <th>Aperutura mental</th>\n",
              "      <th>Control de Emociones</th>\n",
              "      <th>Control de impulsos</th>\n",
              "      <th>Cooperaci—n</th>\n",
              "      <th>Cordialidad</th>\n",
              "      <th>Dinamismo</th>\n",
              "      <th>Dominancia</th>\n",
              "      <th>...</th>\n",
              "      <th>Te sientes motivado por los logros en las clases de programacion de computadoras</th>\n",
              "      <th>Te sientes nervioso en las evaluaciones de programacion de computadoras</th>\n",
              "      <th>Te surge el interes por la materia de programacion de computadoras</th>\n",
              "      <th>Tienes internet en casa</th>\n",
              "      <th>Tienes tiempo para practicar la programacion de computadoras</th>\n",
              "      <th>Cociente Intelectual</th>\n",
              "      <th>Grupo</th>\n",
              "      <th>Numero de respuestas correctas</th>\n",
              "      <th>Percentil</th>\n",
              "      <th>Promedio</th>\n",
              "    </tr>\n",
              "  </thead>\n",
              "  <tbody>\n",
              "    <tr>\n",
              "      <th>0</th>\n",
              "      <td>76.0</td>\n",
              "      <td>34.0</td>\n",
              "      <td>37.0</td>\n",
              "      <td>71.0</td>\n",
              "      <td>39.0</td>\n",
              "      <td>38.0</td>\n",
              "      <td>39.0</td>\n",
              "      <td>37.0</td>\n",
              "      <td>39.0</td>\n",
              "      <td>34.0</td>\n",
              "      <td>...</td>\n",
              "      <td>3</td>\n",
              "      <td>3</td>\n",
              "      <td>2</td>\n",
              "      <td>1</td>\n",
              "      <td>3</td>\n",
              "      <td>3</td>\n",
              "      <td>4</td>\n",
              "      <td>43</td>\n",
              "      <td>25</td>\n",
              "      <td>1.67</td>\n",
              "    </tr>\n",
              "    <tr>\n",
              "      <th>1</th>\n",
              "      <td>76.0</td>\n",
              "      <td>34.0</td>\n",
              "      <td>37.0</td>\n",
              "      <td>71.0</td>\n",
              "      <td>39.0</td>\n",
              "      <td>38.0</td>\n",
              "      <td>39.0</td>\n",
              "      <td>37.0</td>\n",
              "      <td>39.0</td>\n",
              "      <td>34.0</td>\n",
              "      <td>...</td>\n",
              "      <td>2</td>\n",
              "      <td>4</td>\n",
              "      <td>3</td>\n",
              "      <td>1</td>\n",
              "      <td>2</td>\n",
              "      <td>3</td>\n",
              "      <td>4</td>\n",
              "      <td>43</td>\n",
              "      <td>25</td>\n",
              "      <td>1.67</td>\n",
              "    </tr>\n",
              "    <tr>\n",
              "      <th>2</th>\n",
              "      <td>73.0</td>\n",
              "      <td>37.0</td>\n",
              "      <td>41.0</td>\n",
              "      <td>78.0</td>\n",
              "      <td>38.0</td>\n",
              "      <td>37.0</td>\n",
              "      <td>39.0</td>\n",
              "      <td>34.0</td>\n",
              "      <td>34.0</td>\n",
              "      <td>37.0</td>\n",
              "      <td>...</td>\n",
              "      <td>3</td>\n",
              "      <td>5</td>\n",
              "      <td>3</td>\n",
              "      <td>1</td>\n",
              "      <td>3</td>\n",
              "      <td>1</td>\n",
              "      <td>2</td>\n",
              "      <td>53</td>\n",
              "      <td>75</td>\n",
              "      <td>7.33</td>\n",
              "    </tr>\n",
              "    <tr>\n",
              "      <th>3</th>\n",
              "      <td>78.0</td>\n",
              "      <td>40.0</td>\n",
              "      <td>38.0</td>\n",
              "      <td>78.0</td>\n",
              "      <td>33.0</td>\n",
              "      <td>38.0</td>\n",
              "      <td>40.0</td>\n",
              "      <td>38.0</td>\n",
              "      <td>33.0</td>\n",
              "      <td>38.0</td>\n",
              "      <td>...</td>\n",
              "      <td>3</td>\n",
              "      <td>4</td>\n",
              "      <td>3</td>\n",
              "      <td>1</td>\n",
              "      <td>3</td>\n",
              "      <td>1</td>\n",
              "      <td>2</td>\n",
              "      <td>51</td>\n",
              "      <td>75</td>\n",
              "      <td>8.33</td>\n",
              "    </tr>\n",
              "    <tr>\n",
              "      <th>4</th>\n",
              "      <td>70.0</td>\n",
              "      <td>42.0</td>\n",
              "      <td>38.0</td>\n",
              "      <td>80.0</td>\n",
              "      <td>29.0</td>\n",
              "      <td>36.0</td>\n",
              "      <td>34.0</td>\n",
              "      <td>36.0</td>\n",
              "      <td>31.0</td>\n",
              "      <td>34.0</td>\n",
              "      <td>...</td>\n",
              "      <td>3</td>\n",
              "      <td>4</td>\n",
              "      <td>3</td>\n",
              "      <td>0</td>\n",
              "      <td>2</td>\n",
              "      <td>3</td>\n",
              "      <td>4</td>\n",
              "      <td>44</td>\n",
              "      <td>25</td>\n",
              "      <td>8.00</td>\n",
              "    </tr>\n",
              "    <tr>\n",
              "      <th>...</th>\n",
              "      <td>...</td>\n",
              "      <td>...</td>\n",
              "      <td>...</td>\n",
              "      <td>...</td>\n",
              "      <td>...</td>\n",
              "      <td>...</td>\n",
              "      <td>...</td>\n",
              "      <td>...</td>\n",
              "      <td>...</td>\n",
              "      <td>...</td>\n",
              "      <td>...</td>\n",
              "      <td>...</td>\n",
              "      <td>...</td>\n",
              "      <td>...</td>\n",
              "      <td>...</td>\n",
              "      <td>...</td>\n",
              "      <td>...</td>\n",
              "      <td>...</td>\n",
              "      <td>...</td>\n",
              "      <td>...</td>\n",
              "      <td>...</td>\n",
              "    </tr>\n",
              "    <tr>\n",
              "      <th>183</th>\n",
              "      <td>73.0</td>\n",
              "      <td>42.0</td>\n",
              "      <td>51.0</td>\n",
              "      <td>93.0</td>\n",
              "      <td>34.0</td>\n",
              "      <td>35.0</td>\n",
              "      <td>36.0</td>\n",
              "      <td>37.0</td>\n",
              "      <td>43.0</td>\n",
              "      <td>49.0</td>\n",
              "      <td>...</td>\n",
              "      <td>5</td>\n",
              "      <td>5</td>\n",
              "      <td>4</td>\n",
              "      <td>1</td>\n",
              "      <td>3</td>\n",
              "      <td>2</td>\n",
              "      <td>3</td>\n",
              "      <td>45</td>\n",
              "      <td>50</td>\n",
              "      <td>9.67</td>\n",
              "    </tr>\n",
              "    <tr>\n",
              "      <th>184</th>\n",
              "      <td>73.0</td>\n",
              "      <td>42.0</td>\n",
              "      <td>51.0</td>\n",
              "      <td>93.0</td>\n",
              "      <td>34.0</td>\n",
              "      <td>35.0</td>\n",
              "      <td>36.0</td>\n",
              "      <td>37.0</td>\n",
              "      <td>43.0</td>\n",
              "      <td>49.0</td>\n",
              "      <td>...</td>\n",
              "      <td>5</td>\n",
              "      <td>4</td>\n",
              "      <td>5</td>\n",
              "      <td>1</td>\n",
              "      <td>3</td>\n",
              "      <td>2</td>\n",
              "      <td>3</td>\n",
              "      <td>45</td>\n",
              "      <td>50</td>\n",
              "      <td>9.67</td>\n",
              "    </tr>\n",
              "    <tr>\n",
              "      <th>185</th>\n",
              "      <td>89.0</td>\n",
              "      <td>40.0</td>\n",
              "      <td>49.0</td>\n",
              "      <td>89.0</td>\n",
              "      <td>31.0</td>\n",
              "      <td>39.0</td>\n",
              "      <td>43.0</td>\n",
              "      <td>46.0</td>\n",
              "      <td>51.0</td>\n",
              "      <td>33.0</td>\n",
              "      <td>...</td>\n",
              "      <td>4</td>\n",
              "      <td>2</td>\n",
              "      <td>4</td>\n",
              "      <td>0</td>\n",
              "      <td>3</td>\n",
              "      <td>2</td>\n",
              "      <td>3</td>\n",
              "      <td>46</td>\n",
              "      <td>50</td>\n",
              "      <td>7.00</td>\n",
              "    </tr>\n",
              "    <tr>\n",
              "      <th>186</th>\n",
              "      <td>89.0</td>\n",
              "      <td>40.0</td>\n",
              "      <td>49.0</td>\n",
              "      <td>89.0</td>\n",
              "      <td>31.0</td>\n",
              "      <td>39.0</td>\n",
              "      <td>43.0</td>\n",
              "      <td>46.0</td>\n",
              "      <td>51.0</td>\n",
              "      <td>33.0</td>\n",
              "      <td>...</td>\n",
              "      <td>5</td>\n",
              "      <td>1</td>\n",
              "      <td>4</td>\n",
              "      <td>0</td>\n",
              "      <td>2</td>\n",
              "      <td>2</td>\n",
              "      <td>3</td>\n",
              "      <td>46</td>\n",
              "      <td>50</td>\n",
              "      <td>7.00</td>\n",
              "    </tr>\n",
              "    <tr>\n",
              "      <th>187</th>\n",
              "      <td>73.0</td>\n",
              "      <td>36.0</td>\n",
              "      <td>38.0</td>\n",
              "      <td>74.0</td>\n",
              "      <td>33.0</td>\n",
              "      <td>36.0</td>\n",
              "      <td>39.0</td>\n",
              "      <td>34.0</td>\n",
              "      <td>38.0</td>\n",
              "      <td>35.0</td>\n",
              "      <td>...</td>\n",
              "      <td>2</td>\n",
              "      <td>4</td>\n",
              "      <td>4</td>\n",
              "      <td>1</td>\n",
              "      <td>3</td>\n",
              "      <td>3</td>\n",
              "      <td>5</td>\n",
              "      <td>34</td>\n",
              "      <td>5</td>\n",
              "      <td>8.33</td>\n",
              "    </tr>\n",
              "  </tbody>\n",
              "</table>\n",
              "<p>188 rows × 49 columns</p>\n",
              "</div>\n",
              "      <button class=\"colab-df-convert\" onclick=\"convertToInteractive('df-b925bbd4-276d-46a5-8006-97f07d515054')\"\n",
              "              title=\"Convert this dataframe to an interactive table.\"\n",
              "              style=\"display:none;\">\n",
              "        \n",
              "  <svg xmlns=\"http://www.w3.org/2000/svg\" height=\"24px\"viewBox=\"0 0 24 24\"\n",
              "       width=\"24px\">\n",
              "    <path d=\"M0 0h24v24H0V0z\" fill=\"none\"/>\n",
              "    <path d=\"M18.56 5.44l.94 2.06.94-2.06 2.06-.94-2.06-.94-.94-2.06-.94 2.06-2.06.94zm-11 1L8.5 8.5l.94-2.06 2.06-.94-2.06-.94L8.5 2.5l-.94 2.06-2.06.94zm10 10l.94 2.06.94-2.06 2.06-.94-2.06-.94-.94-2.06-.94 2.06-2.06.94z\"/><path d=\"M17.41 7.96l-1.37-1.37c-.4-.4-.92-.59-1.43-.59-.52 0-1.04.2-1.43.59L10.3 9.45l-7.72 7.72c-.78.78-.78 2.05 0 2.83L4 21.41c.39.39.9.59 1.41.59.51 0 1.02-.2 1.41-.59l7.78-7.78 2.81-2.81c.8-.78.8-2.07 0-2.86zM5.41 20L4 18.59l7.72-7.72 1.47 1.35L5.41 20z\"/>\n",
              "  </svg>\n",
              "      </button>\n",
              "      \n",
              "  <style>\n",
              "    .colab-df-container {\n",
              "      display:flex;\n",
              "      flex-wrap:wrap;\n",
              "      gap: 12px;\n",
              "    }\n",
              "\n",
              "    .colab-df-convert {\n",
              "      background-color: #E8F0FE;\n",
              "      border: none;\n",
              "      border-radius: 50%;\n",
              "      cursor: pointer;\n",
              "      display: none;\n",
              "      fill: #1967D2;\n",
              "      height: 32px;\n",
              "      padding: 0 0 0 0;\n",
              "      width: 32px;\n",
              "    }\n",
              "\n",
              "    .colab-df-convert:hover {\n",
              "      background-color: #E2EBFA;\n",
              "      box-shadow: 0px 1px 2px rgba(60, 64, 67, 0.3), 0px 1px 3px 1px rgba(60, 64, 67, 0.15);\n",
              "      fill: #174EA6;\n",
              "    }\n",
              "\n",
              "    [theme=dark] .colab-df-convert {\n",
              "      background-color: #3B4455;\n",
              "      fill: #D2E3FC;\n",
              "    }\n",
              "\n",
              "    [theme=dark] .colab-df-convert:hover {\n",
              "      background-color: #434B5C;\n",
              "      box-shadow: 0px 1px 3px 1px rgba(0, 0, 0, 0.15);\n",
              "      filter: drop-shadow(0px 1px 2px rgba(0, 0, 0, 0.3));\n",
              "      fill: #FFFFFF;\n",
              "    }\n",
              "  </style>\n",
              "\n",
              "      <script>\n",
              "        const buttonEl =\n",
              "          document.querySelector('#df-b925bbd4-276d-46a5-8006-97f07d515054 button.colab-df-convert');\n",
              "        buttonEl.style.display =\n",
              "          google.colab.kernel.accessAllowed ? 'block' : 'none';\n",
              "\n",
              "        async function convertToInteractive(key) {\n",
              "          const element = document.querySelector('#df-b925bbd4-276d-46a5-8006-97f07d515054');\n",
              "          const dataTable =\n",
              "            await google.colab.kernel.invokeFunction('convertToInteractive',\n",
              "                                                     [key], {});\n",
              "          if (!dataTable) return;\n",
              "\n",
              "          const docLinkHtml = 'Like what you see? Visit the ' +\n",
              "            '<a target=\"_blank\" href=https://colab.research.google.com/notebooks/data_table.ipynb>data table notebook</a>'\n",
              "            + ' to learn more about interactive tables.';\n",
              "          element.innerHTML = '';\n",
              "          dataTable['output_type'] = 'display_data';\n",
              "          await google.colab.output.renderOutput(dataTable, element);\n",
              "          const docLink = document.createElement('div');\n",
              "          docLink.innerHTML = docLinkHtml;\n",
              "          element.appendChild(docLink);\n",
              "        }\n",
              "      </script>\n",
              "    </div>\n",
              "  </div>\n",
              "  "
            ]
          },
          "metadata": {},
          "execution_count": 6
        }
      ],
      "source": [
        "union"
      ],
      "id": "f6a175a3"
    },
    {
      "cell_type": "code",
      "execution_count": 7,
      "metadata": {
        "id": "6db3bff0"
      },
      "outputs": [],
      "source": [
        "conteo=union.isnull().sum()"
      ],
      "id": "6db3bff0"
    },
    {
      "cell_type": "code",
      "execution_count": 8,
      "metadata": {
        "id": "7dbceb0f"
      },
      "outputs": [],
      "source": [
        "union['Edad'].fillna(value=union['Edad'].mean(), inplace=True)\n",
        "union['Numero de horas individuales de estudio'].fillna(value=union['Numero de horas individuales de estudio'].mean(), inplace=True)\n",
        "\n",
        "\n",
        "union['Afabilidad'].fillna(value=union['Afabilidad'].mean(), inplace=True)\n",
        "union['Apertura a culturas'].fillna(value=union['Apertura a culturas'].mean(), inplace=True)\n",
        "union['Apertura a la experiencia'].fillna(value=union['Apertura a la experiencia'].mean(), inplace=True)\n",
        "union['Aperutura mental'].fillna(value=union['Aperutura mental'].mean(), inplace=True)\n",
        "union['Control de Emociones'].fillna(value=union['Control de Emociones'].mean(), inplace=True)\n",
        "union['Control de impulsos'].fillna(value=union['Control de impulsos'].mean(), inplace=True)\n",
        "union['Cooperaci—n'].fillna(value=union['Cooperaci—n'].mean(), inplace=True)\n",
        "union['Cordialidad'].fillna(value=union['Cordialidad'].mean(), inplace=True)\n",
        "union['Dinamismo'].fillna(value=union['Dinamismo'].mean(), inplace=True)\n",
        "union['Dominancia'].fillna(value=union['Dominancia'].mean(), inplace=True)\n",
        "union['Energia'].fillna(value=union['Energia'].mean(), inplace=True)\n",
        "union['Escrupulosidad'].fillna(value=union['Escrupulosidad'].mean(), inplace=True)\n",
        "union['Estabilidad emocional'].fillna(value=union['Estabilidad emocional'].mean(), inplace=True)\n",
        "union['Persistencia'].fillna(value=union['Persistencia'].mean(), inplace=True)\n",
        "union['Responsabilidad'].fillna(value=union['Responsabilidad'].mean(), inplace=True)\n",
        "\n",
        "union['Edad'].fillna(value=union['Edad'].mean(), inplace=True)\n",
        "union['Numero de horas individuales de estudio'].fillna(value=union['Numero de horas individuales de estudio'].mean(), inplace=True)\n",
        "\n"
      ],
      "id": "7dbceb0f"
    },
    {
      "cell_type": "markdown",
      "metadata": {
        "id": "5e927e84"
      },
      "source": [
        "Análisis visual"
      ],
      "id": "5e927e84"
    },
    {
      "cell_type": "code",
      "execution_count": 9,
      "metadata": {
        "id": "50c8c4ea"
      },
      "outputs": [],
      "source": [
        "union.loc[union['Promedio'] >=7, 'Promedio'] = 'Aprobado'"
      ],
      "id": "50c8c4ea"
    },
    {
      "cell_type": "code",
      "execution_count": 10,
      "metadata": {
        "id": "a671fb27"
      },
      "outputs": [],
      "source": [
        "#union.loc[union['Promedio'] < 7, 'Promedio'] = 'No aprobado'\n",
        "\n",
        "union.loc[union['Promedio'] != \"Aprobado\", 'Promedio'] = 'No aprobado'\n"
      ],
      "id": "a671fb27"
    },
    {
      "cell_type": "code",
      "execution_count": 11,
      "metadata": {
        "colab": {
          "base_uri": "https://localhost:8080/"
        },
        "id": "fPmWRE_bfoaO",
        "outputId": "beb0b901-b085-4afc-abae-332b934c3aba"
      },
      "outputs": [
        {
          "output_type": "execute_result",
          "data": {
            "text/plain": [
              "(188, 49)"
            ]
          },
          "metadata": {},
          "execution_count": 11
        }
      ],
      "source": [
        "union.shape"
      ],
      "id": "fPmWRE_bfoaO"
    },
    {
      "cell_type": "code",
      "execution_count": 12,
      "metadata": {
        "id": "cba8a2b1"
      },
      "outputs": [],
      "source": [
        "from sklearn.preprocessing import LabelEncoder\n",
        "#\n",
        "# Instantiate LabelEncoder\n",
        "#\n",
        "le = LabelEncoder()\n",
        "#\n",
        "# Encode single column status\n",
        "#\n",
        "union.Promedio = le.fit_transform(union.Promedio)\n",
        "#\n",
        "# Print df.head for checking the transformation\n",
        "#\n"
      ],
      "id": "cba8a2b1"
    },
    {
      "cell_type": "code",
      "execution_count": 13,
      "metadata": {
        "colab": {
          "base_uri": "https://localhost:8080/",
          "height": 609
        },
        "id": "28f51158",
        "outputId": "7d29fb0a-fb33-470e-9d87-cbee1e791dde"
      },
      "outputs": [
        {
          "output_type": "execute_result",
          "data": {
            "text/plain": [
              "     Afabilidad  Apertura a culturas  Apertura a la experiencia  \\\n",
              "0          76.0                 34.0                       37.0   \n",
              "1          76.0                 34.0                       37.0   \n",
              "2          73.0                 37.0                       41.0   \n",
              "3          78.0                 40.0                       38.0   \n",
              "4          70.0                 42.0                       38.0   \n",
              "..          ...                  ...                        ...   \n",
              "183        73.0                 42.0                       51.0   \n",
              "184        73.0                 42.0                       51.0   \n",
              "185        89.0                 40.0                       49.0   \n",
              "186        89.0                 40.0                       49.0   \n",
              "187        73.0                 36.0                       38.0   \n",
              "\n",
              "     Aperutura mental  Control de Emociones  Control de impulsos  Cooperaci—n  \\\n",
              "0                71.0                  39.0                 38.0         39.0   \n",
              "1                71.0                  39.0                 38.0         39.0   \n",
              "2                78.0                  38.0                 37.0         39.0   \n",
              "3                78.0                  33.0                 38.0         40.0   \n",
              "4                80.0                  29.0                 36.0         34.0   \n",
              "..                ...                   ...                  ...          ...   \n",
              "183              93.0                  34.0                 35.0         36.0   \n",
              "184              93.0                  34.0                 35.0         36.0   \n",
              "185              89.0                  31.0                 39.0         43.0   \n",
              "186              89.0                  31.0                 39.0         43.0   \n",
              "187              74.0                  33.0                 36.0         39.0   \n",
              "\n",
              "     Cordialidad  Dinamismo  Dominancia  ...  \\\n",
              "0           37.0       39.0        34.0  ...   \n",
              "1           37.0       39.0        34.0  ...   \n",
              "2           34.0       34.0        37.0  ...   \n",
              "3           38.0       33.0        38.0  ...   \n",
              "4           36.0       31.0        34.0  ...   \n",
              "..           ...        ...         ...  ...   \n",
              "183         37.0       43.0        49.0  ...   \n",
              "184         37.0       43.0        49.0  ...   \n",
              "185         46.0       51.0        33.0  ...   \n",
              "186         46.0       51.0        33.0  ...   \n",
              "187         34.0       38.0        35.0  ...   \n",
              "\n",
              "     Te sientes motivado por los logros en las clases de programacion de computadoras  \\\n",
              "0                                                    3                                  \n",
              "1                                                    2                                  \n",
              "2                                                    3                                  \n",
              "3                                                    3                                  \n",
              "4                                                    3                                  \n",
              "..                                                 ...                                  \n",
              "183                                                  5                                  \n",
              "184                                                  5                                  \n",
              "185                                                  4                                  \n",
              "186                                                  5                                  \n",
              "187                                                  2                                  \n",
              "\n",
              "     Te sientes nervioso en las evaluaciones de programacion de computadoras  \\\n",
              "0                                                    3                         \n",
              "1                                                    4                         \n",
              "2                                                    5                         \n",
              "3                                                    4                         \n",
              "4                                                    4                         \n",
              "..                                                 ...                         \n",
              "183                                                  5                         \n",
              "184                                                  4                         \n",
              "185                                                  2                         \n",
              "186                                                  1                         \n",
              "187                                                  4                         \n",
              "\n",
              "     Te surge el interes por la materia de programacion de computadoras  \\\n",
              "0                                                    2                    \n",
              "1                                                    3                    \n",
              "2                                                    3                    \n",
              "3                                                    3                    \n",
              "4                                                    3                    \n",
              "..                                                 ...                    \n",
              "183                                                  4                    \n",
              "184                                                  5                    \n",
              "185                                                  4                    \n",
              "186                                                  4                    \n",
              "187                                                  4                    \n",
              "\n",
              "     Tienes internet en casa  \\\n",
              "0                          1   \n",
              "1                          1   \n",
              "2                          1   \n",
              "3                          1   \n",
              "4                          0   \n",
              "..                       ...   \n",
              "183                        1   \n",
              "184                        1   \n",
              "185                        0   \n",
              "186                        0   \n",
              "187                        1   \n",
              "\n",
              "     Tienes tiempo para practicar la programacion de computadoras  \\\n",
              "0                                                    3              \n",
              "1                                                    2              \n",
              "2                                                    3              \n",
              "3                                                    3              \n",
              "4                                                    2              \n",
              "..                                                 ...              \n",
              "183                                                  3              \n",
              "184                                                  3              \n",
              "185                                                  3              \n",
              "186                                                  2              \n",
              "187                                                  3              \n",
              "\n",
              "     Cociente Intelectual  Grupo  Numero de respuestas correctas  Percentil  \\\n",
              "0                       3      4                              43         25   \n",
              "1                       3      4                              43         25   \n",
              "2                       1      2                              53         75   \n",
              "3                       1      2                              51         75   \n",
              "4                       3      4                              44         25   \n",
              "..                    ...    ...                             ...        ...   \n",
              "183                     2      3                              45         50   \n",
              "184                     2      3                              45         50   \n",
              "185                     2      3                              46         50   \n",
              "186                     2      3                              46         50   \n",
              "187                     3      5                              34          5   \n",
              "\n",
              "     Promedio  \n",
              "0           1  \n",
              "1           1  \n",
              "2           0  \n",
              "3           0  \n",
              "4           0  \n",
              "..        ...  \n",
              "183         0  \n",
              "184         0  \n",
              "185         0  \n",
              "186         0  \n",
              "187         0  \n",
              "\n",
              "[188 rows x 49 columns]"
            ],
            "text/html": [
              "\n",
              "  <div id=\"df-255c94a4-8f80-4167-b3d0-3b23c1dfd6af\">\n",
              "    <div class=\"colab-df-container\">\n",
              "      <div>\n",
              "<style scoped>\n",
              "    .dataframe tbody tr th:only-of-type {\n",
              "        vertical-align: middle;\n",
              "    }\n",
              "\n",
              "    .dataframe tbody tr th {\n",
              "        vertical-align: top;\n",
              "    }\n",
              "\n",
              "    .dataframe thead th {\n",
              "        text-align: right;\n",
              "    }\n",
              "</style>\n",
              "<table border=\"1\" class=\"dataframe\">\n",
              "  <thead>\n",
              "    <tr style=\"text-align: right;\">\n",
              "      <th></th>\n",
              "      <th>Afabilidad</th>\n",
              "      <th>Apertura a culturas</th>\n",
              "      <th>Apertura a la experiencia</th>\n",
              "      <th>Aperutura mental</th>\n",
              "      <th>Control de Emociones</th>\n",
              "      <th>Control de impulsos</th>\n",
              "      <th>Cooperaci—n</th>\n",
              "      <th>Cordialidad</th>\n",
              "      <th>Dinamismo</th>\n",
              "      <th>Dominancia</th>\n",
              "      <th>...</th>\n",
              "      <th>Te sientes motivado por los logros en las clases de programacion de computadoras</th>\n",
              "      <th>Te sientes nervioso en las evaluaciones de programacion de computadoras</th>\n",
              "      <th>Te surge el interes por la materia de programacion de computadoras</th>\n",
              "      <th>Tienes internet en casa</th>\n",
              "      <th>Tienes tiempo para practicar la programacion de computadoras</th>\n",
              "      <th>Cociente Intelectual</th>\n",
              "      <th>Grupo</th>\n",
              "      <th>Numero de respuestas correctas</th>\n",
              "      <th>Percentil</th>\n",
              "      <th>Promedio</th>\n",
              "    </tr>\n",
              "  </thead>\n",
              "  <tbody>\n",
              "    <tr>\n",
              "      <th>0</th>\n",
              "      <td>76.0</td>\n",
              "      <td>34.0</td>\n",
              "      <td>37.0</td>\n",
              "      <td>71.0</td>\n",
              "      <td>39.0</td>\n",
              "      <td>38.0</td>\n",
              "      <td>39.0</td>\n",
              "      <td>37.0</td>\n",
              "      <td>39.0</td>\n",
              "      <td>34.0</td>\n",
              "      <td>...</td>\n",
              "      <td>3</td>\n",
              "      <td>3</td>\n",
              "      <td>2</td>\n",
              "      <td>1</td>\n",
              "      <td>3</td>\n",
              "      <td>3</td>\n",
              "      <td>4</td>\n",
              "      <td>43</td>\n",
              "      <td>25</td>\n",
              "      <td>1</td>\n",
              "    </tr>\n",
              "    <tr>\n",
              "      <th>1</th>\n",
              "      <td>76.0</td>\n",
              "      <td>34.0</td>\n",
              "      <td>37.0</td>\n",
              "      <td>71.0</td>\n",
              "      <td>39.0</td>\n",
              "      <td>38.0</td>\n",
              "      <td>39.0</td>\n",
              "      <td>37.0</td>\n",
              "      <td>39.0</td>\n",
              "      <td>34.0</td>\n",
              "      <td>...</td>\n",
              "      <td>2</td>\n",
              "      <td>4</td>\n",
              "      <td>3</td>\n",
              "      <td>1</td>\n",
              "      <td>2</td>\n",
              "      <td>3</td>\n",
              "      <td>4</td>\n",
              "      <td>43</td>\n",
              "      <td>25</td>\n",
              "      <td>1</td>\n",
              "    </tr>\n",
              "    <tr>\n",
              "      <th>2</th>\n",
              "      <td>73.0</td>\n",
              "      <td>37.0</td>\n",
              "      <td>41.0</td>\n",
              "      <td>78.0</td>\n",
              "      <td>38.0</td>\n",
              "      <td>37.0</td>\n",
              "      <td>39.0</td>\n",
              "      <td>34.0</td>\n",
              "      <td>34.0</td>\n",
              "      <td>37.0</td>\n",
              "      <td>...</td>\n",
              "      <td>3</td>\n",
              "      <td>5</td>\n",
              "      <td>3</td>\n",
              "      <td>1</td>\n",
              "      <td>3</td>\n",
              "      <td>1</td>\n",
              "      <td>2</td>\n",
              "      <td>53</td>\n",
              "      <td>75</td>\n",
              "      <td>0</td>\n",
              "    </tr>\n",
              "    <tr>\n",
              "      <th>3</th>\n",
              "      <td>78.0</td>\n",
              "      <td>40.0</td>\n",
              "      <td>38.0</td>\n",
              "      <td>78.0</td>\n",
              "      <td>33.0</td>\n",
              "      <td>38.0</td>\n",
              "      <td>40.0</td>\n",
              "      <td>38.0</td>\n",
              "      <td>33.0</td>\n",
              "      <td>38.0</td>\n",
              "      <td>...</td>\n",
              "      <td>3</td>\n",
              "      <td>4</td>\n",
              "      <td>3</td>\n",
              "      <td>1</td>\n",
              "      <td>3</td>\n",
              "      <td>1</td>\n",
              "      <td>2</td>\n",
              "      <td>51</td>\n",
              "      <td>75</td>\n",
              "      <td>0</td>\n",
              "    </tr>\n",
              "    <tr>\n",
              "      <th>4</th>\n",
              "      <td>70.0</td>\n",
              "      <td>42.0</td>\n",
              "      <td>38.0</td>\n",
              "      <td>80.0</td>\n",
              "      <td>29.0</td>\n",
              "      <td>36.0</td>\n",
              "      <td>34.0</td>\n",
              "      <td>36.0</td>\n",
              "      <td>31.0</td>\n",
              "      <td>34.0</td>\n",
              "      <td>...</td>\n",
              "      <td>3</td>\n",
              "      <td>4</td>\n",
              "      <td>3</td>\n",
              "      <td>0</td>\n",
              "      <td>2</td>\n",
              "      <td>3</td>\n",
              "      <td>4</td>\n",
              "      <td>44</td>\n",
              "      <td>25</td>\n",
              "      <td>0</td>\n",
              "    </tr>\n",
              "    <tr>\n",
              "      <th>...</th>\n",
              "      <td>...</td>\n",
              "      <td>...</td>\n",
              "      <td>...</td>\n",
              "      <td>...</td>\n",
              "      <td>...</td>\n",
              "      <td>...</td>\n",
              "      <td>...</td>\n",
              "      <td>...</td>\n",
              "      <td>...</td>\n",
              "      <td>...</td>\n",
              "      <td>...</td>\n",
              "      <td>...</td>\n",
              "      <td>...</td>\n",
              "      <td>...</td>\n",
              "      <td>...</td>\n",
              "      <td>...</td>\n",
              "      <td>...</td>\n",
              "      <td>...</td>\n",
              "      <td>...</td>\n",
              "      <td>...</td>\n",
              "      <td>...</td>\n",
              "    </tr>\n",
              "    <tr>\n",
              "      <th>183</th>\n",
              "      <td>73.0</td>\n",
              "      <td>42.0</td>\n",
              "      <td>51.0</td>\n",
              "      <td>93.0</td>\n",
              "      <td>34.0</td>\n",
              "      <td>35.0</td>\n",
              "      <td>36.0</td>\n",
              "      <td>37.0</td>\n",
              "      <td>43.0</td>\n",
              "      <td>49.0</td>\n",
              "      <td>...</td>\n",
              "      <td>5</td>\n",
              "      <td>5</td>\n",
              "      <td>4</td>\n",
              "      <td>1</td>\n",
              "      <td>3</td>\n",
              "      <td>2</td>\n",
              "      <td>3</td>\n",
              "      <td>45</td>\n",
              "      <td>50</td>\n",
              "      <td>0</td>\n",
              "    </tr>\n",
              "    <tr>\n",
              "      <th>184</th>\n",
              "      <td>73.0</td>\n",
              "      <td>42.0</td>\n",
              "      <td>51.0</td>\n",
              "      <td>93.0</td>\n",
              "      <td>34.0</td>\n",
              "      <td>35.0</td>\n",
              "      <td>36.0</td>\n",
              "      <td>37.0</td>\n",
              "      <td>43.0</td>\n",
              "      <td>49.0</td>\n",
              "      <td>...</td>\n",
              "      <td>5</td>\n",
              "      <td>4</td>\n",
              "      <td>5</td>\n",
              "      <td>1</td>\n",
              "      <td>3</td>\n",
              "      <td>2</td>\n",
              "      <td>3</td>\n",
              "      <td>45</td>\n",
              "      <td>50</td>\n",
              "      <td>0</td>\n",
              "    </tr>\n",
              "    <tr>\n",
              "      <th>185</th>\n",
              "      <td>89.0</td>\n",
              "      <td>40.0</td>\n",
              "      <td>49.0</td>\n",
              "      <td>89.0</td>\n",
              "      <td>31.0</td>\n",
              "      <td>39.0</td>\n",
              "      <td>43.0</td>\n",
              "      <td>46.0</td>\n",
              "      <td>51.0</td>\n",
              "      <td>33.0</td>\n",
              "      <td>...</td>\n",
              "      <td>4</td>\n",
              "      <td>2</td>\n",
              "      <td>4</td>\n",
              "      <td>0</td>\n",
              "      <td>3</td>\n",
              "      <td>2</td>\n",
              "      <td>3</td>\n",
              "      <td>46</td>\n",
              "      <td>50</td>\n",
              "      <td>0</td>\n",
              "    </tr>\n",
              "    <tr>\n",
              "      <th>186</th>\n",
              "      <td>89.0</td>\n",
              "      <td>40.0</td>\n",
              "      <td>49.0</td>\n",
              "      <td>89.0</td>\n",
              "      <td>31.0</td>\n",
              "      <td>39.0</td>\n",
              "      <td>43.0</td>\n",
              "      <td>46.0</td>\n",
              "      <td>51.0</td>\n",
              "      <td>33.0</td>\n",
              "      <td>...</td>\n",
              "      <td>5</td>\n",
              "      <td>1</td>\n",
              "      <td>4</td>\n",
              "      <td>0</td>\n",
              "      <td>2</td>\n",
              "      <td>2</td>\n",
              "      <td>3</td>\n",
              "      <td>46</td>\n",
              "      <td>50</td>\n",
              "      <td>0</td>\n",
              "    </tr>\n",
              "    <tr>\n",
              "      <th>187</th>\n",
              "      <td>73.0</td>\n",
              "      <td>36.0</td>\n",
              "      <td>38.0</td>\n",
              "      <td>74.0</td>\n",
              "      <td>33.0</td>\n",
              "      <td>36.0</td>\n",
              "      <td>39.0</td>\n",
              "      <td>34.0</td>\n",
              "      <td>38.0</td>\n",
              "      <td>35.0</td>\n",
              "      <td>...</td>\n",
              "      <td>2</td>\n",
              "      <td>4</td>\n",
              "      <td>4</td>\n",
              "      <td>1</td>\n",
              "      <td>3</td>\n",
              "      <td>3</td>\n",
              "      <td>5</td>\n",
              "      <td>34</td>\n",
              "      <td>5</td>\n",
              "      <td>0</td>\n",
              "    </tr>\n",
              "  </tbody>\n",
              "</table>\n",
              "<p>188 rows × 49 columns</p>\n",
              "</div>\n",
              "      <button class=\"colab-df-convert\" onclick=\"convertToInteractive('df-255c94a4-8f80-4167-b3d0-3b23c1dfd6af')\"\n",
              "              title=\"Convert this dataframe to an interactive table.\"\n",
              "              style=\"display:none;\">\n",
              "        \n",
              "  <svg xmlns=\"http://www.w3.org/2000/svg\" height=\"24px\"viewBox=\"0 0 24 24\"\n",
              "       width=\"24px\">\n",
              "    <path d=\"M0 0h24v24H0V0z\" fill=\"none\"/>\n",
              "    <path d=\"M18.56 5.44l.94 2.06.94-2.06 2.06-.94-2.06-.94-.94-2.06-.94 2.06-2.06.94zm-11 1L8.5 8.5l.94-2.06 2.06-.94-2.06-.94L8.5 2.5l-.94 2.06-2.06.94zm10 10l.94 2.06.94-2.06 2.06-.94-2.06-.94-.94-2.06-.94 2.06-2.06.94z\"/><path d=\"M17.41 7.96l-1.37-1.37c-.4-.4-.92-.59-1.43-.59-.52 0-1.04.2-1.43.59L10.3 9.45l-7.72 7.72c-.78.78-.78 2.05 0 2.83L4 21.41c.39.39.9.59 1.41.59.51 0 1.02-.2 1.41-.59l7.78-7.78 2.81-2.81c.8-.78.8-2.07 0-2.86zM5.41 20L4 18.59l7.72-7.72 1.47 1.35L5.41 20z\"/>\n",
              "  </svg>\n",
              "      </button>\n",
              "      \n",
              "  <style>\n",
              "    .colab-df-container {\n",
              "      display:flex;\n",
              "      flex-wrap:wrap;\n",
              "      gap: 12px;\n",
              "    }\n",
              "\n",
              "    .colab-df-convert {\n",
              "      background-color: #E8F0FE;\n",
              "      border: none;\n",
              "      border-radius: 50%;\n",
              "      cursor: pointer;\n",
              "      display: none;\n",
              "      fill: #1967D2;\n",
              "      height: 32px;\n",
              "      padding: 0 0 0 0;\n",
              "      width: 32px;\n",
              "    }\n",
              "\n",
              "    .colab-df-convert:hover {\n",
              "      background-color: #E2EBFA;\n",
              "      box-shadow: 0px 1px 2px rgba(60, 64, 67, 0.3), 0px 1px 3px 1px rgba(60, 64, 67, 0.15);\n",
              "      fill: #174EA6;\n",
              "    }\n",
              "\n",
              "    [theme=dark] .colab-df-convert {\n",
              "      background-color: #3B4455;\n",
              "      fill: #D2E3FC;\n",
              "    }\n",
              "\n",
              "    [theme=dark] .colab-df-convert:hover {\n",
              "      background-color: #434B5C;\n",
              "      box-shadow: 0px 1px 3px 1px rgba(0, 0, 0, 0.15);\n",
              "      filter: drop-shadow(0px 1px 2px rgba(0, 0, 0, 0.3));\n",
              "      fill: #FFFFFF;\n",
              "    }\n",
              "  </style>\n",
              "\n",
              "      <script>\n",
              "        const buttonEl =\n",
              "          document.querySelector('#df-255c94a4-8f80-4167-b3d0-3b23c1dfd6af button.colab-df-convert');\n",
              "        buttonEl.style.display =\n",
              "          google.colab.kernel.accessAllowed ? 'block' : 'none';\n",
              "\n",
              "        async function convertToInteractive(key) {\n",
              "          const element = document.querySelector('#df-255c94a4-8f80-4167-b3d0-3b23c1dfd6af');\n",
              "          const dataTable =\n",
              "            await google.colab.kernel.invokeFunction('convertToInteractive',\n",
              "                                                     [key], {});\n",
              "          if (!dataTable) return;\n",
              "\n",
              "          const docLinkHtml = 'Like what you see? Visit the ' +\n",
              "            '<a target=\"_blank\" href=https://colab.research.google.com/notebooks/data_table.ipynb>data table notebook</a>'\n",
              "            + ' to learn more about interactive tables.';\n",
              "          element.innerHTML = '';\n",
              "          dataTable['output_type'] = 'display_data';\n",
              "          await google.colab.output.renderOutput(dataTable, element);\n",
              "          const docLink = document.createElement('div');\n",
              "          docLink.innerHTML = docLinkHtml;\n",
              "          element.appendChild(docLink);\n",
              "        }\n",
              "      </script>\n",
              "    </div>\n",
              "  </div>\n",
              "  "
            ]
          },
          "metadata": {},
          "execution_count": 13
        }
      ],
      "source": [
        "union"
      ],
      "id": "28f51158"
    },
    {
      "cell_type": "markdown",
      "metadata": {
        "id": "9412b6f3"
      },
      "source": [
        "Información visual"
      ],
      "id": "9412b6f3"
    },
    {
      "cell_type": "code",
      "execution_count": 14,
      "metadata": {
        "colab": {
          "base_uri": "https://localhost:8080/"
        },
        "id": "2ee3a19b",
        "outputId": "e48841b1-cadc-40e5-83a2-d9996567c378"
      },
      "outputs": [
        {
          "output_type": "execute_result",
          "data": {
            "text/plain": [
              "['Aprobado', 'No aprobado']"
            ]
          },
          "metadata": {},
          "execution_count": 14
        }
      ],
      "source": [
        "list(le.inverse_transform([0,1]))"
      ],
      "id": "2ee3a19b"
    },
    {
      "cell_type": "code",
      "execution_count": 15,
      "metadata": {
        "id": "eeac249c"
      },
      "outputs": [],
      "source": [
        "agrupa=pd.DataFrame()"
      ],
      "id": "eeac249c"
    },
    {
      "cell_type": "code",
      "execution_count": 16,
      "metadata": {
        "colab": {
          "base_uri": "https://localhost:8080/",
          "height": 238
        },
        "id": "e2037588",
        "outputId": "6a454e07-1e72-43a3-cbd5-851bf7f3971b"
      },
      "outputs": [
        {
          "output_type": "execute_result",
          "data": {
            "text/plain": [
              "                          0          1\n",
              "Promedio           0.000000   1.000000\n",
              "Energia           74.004659  77.164608\n",
              "Afabilidad        75.982821  74.943410\n",
              "Responsabilidad   81.137106  77.290691\n",
              "Estab. Emocional  67.488371  66.328664\n",
              "Apert. mental     81.705805  81.341382"
            ],
            "text/html": [
              "\n",
              "  <div id=\"df-de7e3d1f-0256-45a8-9f28-3f9c81520d84\">\n",
              "    <div class=\"colab-df-container\">\n",
              "      <div>\n",
              "<style scoped>\n",
              "    .dataframe tbody tr th:only-of-type {\n",
              "        vertical-align: middle;\n",
              "    }\n",
              "\n",
              "    .dataframe tbody tr th {\n",
              "        vertical-align: top;\n",
              "    }\n",
              "\n",
              "    .dataframe thead th {\n",
              "        text-align: right;\n",
              "    }\n",
              "</style>\n",
              "<table border=\"1\" class=\"dataframe\">\n",
              "  <thead>\n",
              "    <tr style=\"text-align: right;\">\n",
              "      <th></th>\n",
              "      <th>0</th>\n",
              "      <th>1</th>\n",
              "    </tr>\n",
              "  </thead>\n",
              "  <tbody>\n",
              "    <tr>\n",
              "      <th>Promedio</th>\n",
              "      <td>0.000000</td>\n",
              "      <td>1.000000</td>\n",
              "    </tr>\n",
              "    <tr>\n",
              "      <th>Energia</th>\n",
              "      <td>74.004659</td>\n",
              "      <td>77.164608</td>\n",
              "    </tr>\n",
              "    <tr>\n",
              "      <th>Afabilidad</th>\n",
              "      <td>75.982821</td>\n",
              "      <td>74.943410</td>\n",
              "    </tr>\n",
              "    <tr>\n",
              "      <th>Responsabilidad</th>\n",
              "      <td>81.137106</td>\n",
              "      <td>77.290691</td>\n",
              "    </tr>\n",
              "    <tr>\n",
              "      <th>Estab. Emocional</th>\n",
              "      <td>67.488371</td>\n",
              "      <td>66.328664</td>\n",
              "    </tr>\n",
              "    <tr>\n",
              "      <th>Apert. mental</th>\n",
              "      <td>81.705805</td>\n",
              "      <td>81.341382</td>\n",
              "    </tr>\n",
              "  </tbody>\n",
              "</table>\n",
              "</div>\n",
              "      <button class=\"colab-df-convert\" onclick=\"convertToInteractive('df-de7e3d1f-0256-45a8-9f28-3f9c81520d84')\"\n",
              "              title=\"Convert this dataframe to an interactive table.\"\n",
              "              style=\"display:none;\">\n",
              "        \n",
              "  <svg xmlns=\"http://www.w3.org/2000/svg\" height=\"24px\"viewBox=\"0 0 24 24\"\n",
              "       width=\"24px\">\n",
              "    <path d=\"M0 0h24v24H0V0z\" fill=\"none\"/>\n",
              "    <path d=\"M18.56 5.44l.94 2.06.94-2.06 2.06-.94-2.06-.94-.94-2.06-.94 2.06-2.06.94zm-11 1L8.5 8.5l.94-2.06 2.06-.94-2.06-.94L8.5 2.5l-.94 2.06-2.06.94zm10 10l.94 2.06.94-2.06 2.06-.94-2.06-.94-.94-2.06-.94 2.06-2.06.94z\"/><path d=\"M17.41 7.96l-1.37-1.37c-.4-.4-.92-.59-1.43-.59-.52 0-1.04.2-1.43.59L10.3 9.45l-7.72 7.72c-.78.78-.78 2.05 0 2.83L4 21.41c.39.39.9.59 1.41.59.51 0 1.02-.2 1.41-.59l7.78-7.78 2.81-2.81c.8-.78.8-2.07 0-2.86zM5.41 20L4 18.59l7.72-7.72 1.47 1.35L5.41 20z\"/>\n",
              "  </svg>\n",
              "      </button>\n",
              "      \n",
              "  <style>\n",
              "    .colab-df-container {\n",
              "      display:flex;\n",
              "      flex-wrap:wrap;\n",
              "      gap: 12px;\n",
              "    }\n",
              "\n",
              "    .colab-df-convert {\n",
              "      background-color: #E8F0FE;\n",
              "      border: none;\n",
              "      border-radius: 50%;\n",
              "      cursor: pointer;\n",
              "      display: none;\n",
              "      fill: #1967D2;\n",
              "      height: 32px;\n",
              "      padding: 0 0 0 0;\n",
              "      width: 32px;\n",
              "    }\n",
              "\n",
              "    .colab-df-convert:hover {\n",
              "      background-color: #E2EBFA;\n",
              "      box-shadow: 0px 1px 2px rgba(60, 64, 67, 0.3), 0px 1px 3px 1px rgba(60, 64, 67, 0.15);\n",
              "      fill: #174EA6;\n",
              "    }\n",
              "\n",
              "    [theme=dark] .colab-df-convert {\n",
              "      background-color: #3B4455;\n",
              "      fill: #D2E3FC;\n",
              "    }\n",
              "\n",
              "    [theme=dark] .colab-df-convert:hover {\n",
              "      background-color: #434B5C;\n",
              "      box-shadow: 0px 1px 3px 1px rgba(0, 0, 0, 0.15);\n",
              "      filter: drop-shadow(0px 1px 2px rgba(0, 0, 0, 0.3));\n",
              "      fill: #FFFFFF;\n",
              "    }\n",
              "  </style>\n",
              "\n",
              "      <script>\n",
              "        const buttonEl =\n",
              "          document.querySelector('#df-de7e3d1f-0256-45a8-9f28-3f9c81520d84 button.colab-df-convert');\n",
              "        buttonEl.style.display =\n",
              "          google.colab.kernel.accessAllowed ? 'block' : 'none';\n",
              "\n",
              "        async function convertToInteractive(key) {\n",
              "          const element = document.querySelector('#df-de7e3d1f-0256-45a8-9f28-3f9c81520d84');\n",
              "          const dataTable =\n",
              "            await google.colab.kernel.invokeFunction('convertToInteractive',\n",
              "                                                     [key], {});\n",
              "          if (!dataTable) return;\n",
              "\n",
              "          const docLinkHtml = 'Like what you see? Visit the ' +\n",
              "            '<a target=\"_blank\" href=https://colab.research.google.com/notebooks/data_table.ipynb>data table notebook</a>'\n",
              "            + ' to learn more about interactive tables.';\n",
              "          element.innerHTML = '';\n",
              "          dataTable['output_type'] = 'display_data';\n",
              "          await google.colab.output.renderOutput(dataTable, element);\n",
              "          const docLink = document.createElement('div');\n",
              "          docLink.innerHTML = docLinkHtml;\n",
              "          element.appendChild(docLink);\n",
              "        }\n",
              "      </script>\n",
              "    </div>\n",
              "  </div>\n",
              "  "
            ]
          },
          "metadata": {},
          "execution_count": 16
        }
      ],
      "source": [
        "promedio=[0, 1]\n",
        "agrupa['Promedio']=promedio\n",
        "agrupa['Energia']=union.groupby(by='Promedio')['Energia'].mean()\n",
        "agrupa['Afabilidad']=union.groupby(by='Promedio')['Afabilidad'].mean()\n",
        "agrupa['Responsabilidad']=union.groupby(by='Promedio')['Responsabilidad'].mean()\n",
        "agrupa['Estab. Emocional']=union.groupby(by='Promedio')['Estabilidad emocional'].mean()\n",
        "agrupa['Apert. mental']=union.groupby(by='Promedio')['Aperutura mental'].mean()\n",
        "agrupa.T"
      ],
      "id": "e2037588"
    },
    {
      "cell_type": "code",
      "execution_count": 17,
      "metadata": {
        "colab": {
          "base_uri": "https://localhost:8080/",
          "height": 175
        },
        "id": "a1f61de9",
        "outputId": "2b083e16-c7da-4692-b42a-5db74011dd0d"
      },
      "outputs": [
        {
          "output_type": "execute_result",
          "data": {
            "text/plain": [
              "                   0          1\n",
              "Promedio    0.000000   1.000000\n",
              "CI          2.140127   2.612903\n",
              "GP          3.222930   3.774194\n",
              "Percentil  43.439490  28.225806"
            ],
            "text/html": [
              "\n",
              "  <div id=\"df-aaccb9b6-7ed2-45c2-8ec3-2d3dc72ed91d\">\n",
              "    <div class=\"colab-df-container\">\n",
              "      <div>\n",
              "<style scoped>\n",
              "    .dataframe tbody tr th:only-of-type {\n",
              "        vertical-align: middle;\n",
              "    }\n",
              "\n",
              "    .dataframe tbody tr th {\n",
              "        vertical-align: top;\n",
              "    }\n",
              "\n",
              "    .dataframe thead th {\n",
              "        text-align: right;\n",
              "    }\n",
              "</style>\n",
              "<table border=\"1\" class=\"dataframe\">\n",
              "  <thead>\n",
              "    <tr style=\"text-align: right;\">\n",
              "      <th></th>\n",
              "      <th>0</th>\n",
              "      <th>1</th>\n",
              "    </tr>\n",
              "  </thead>\n",
              "  <tbody>\n",
              "    <tr>\n",
              "      <th>Promedio</th>\n",
              "      <td>0.000000</td>\n",
              "      <td>1.000000</td>\n",
              "    </tr>\n",
              "    <tr>\n",
              "      <th>CI</th>\n",
              "      <td>2.140127</td>\n",
              "      <td>2.612903</td>\n",
              "    </tr>\n",
              "    <tr>\n",
              "      <th>GP</th>\n",
              "      <td>3.222930</td>\n",
              "      <td>3.774194</td>\n",
              "    </tr>\n",
              "    <tr>\n",
              "      <th>Percentil</th>\n",
              "      <td>43.439490</td>\n",
              "      <td>28.225806</td>\n",
              "    </tr>\n",
              "  </tbody>\n",
              "</table>\n",
              "</div>\n",
              "      <button class=\"colab-df-convert\" onclick=\"convertToInteractive('df-aaccb9b6-7ed2-45c2-8ec3-2d3dc72ed91d')\"\n",
              "              title=\"Convert this dataframe to an interactive table.\"\n",
              "              style=\"display:none;\">\n",
              "        \n",
              "  <svg xmlns=\"http://www.w3.org/2000/svg\" height=\"24px\"viewBox=\"0 0 24 24\"\n",
              "       width=\"24px\">\n",
              "    <path d=\"M0 0h24v24H0V0z\" fill=\"none\"/>\n",
              "    <path d=\"M18.56 5.44l.94 2.06.94-2.06 2.06-.94-2.06-.94-.94-2.06-.94 2.06-2.06.94zm-11 1L8.5 8.5l.94-2.06 2.06-.94-2.06-.94L8.5 2.5l-.94 2.06-2.06.94zm10 10l.94 2.06.94-2.06 2.06-.94-2.06-.94-.94-2.06-.94 2.06-2.06.94z\"/><path d=\"M17.41 7.96l-1.37-1.37c-.4-.4-.92-.59-1.43-.59-.52 0-1.04.2-1.43.59L10.3 9.45l-7.72 7.72c-.78.78-.78 2.05 0 2.83L4 21.41c.39.39.9.59 1.41.59.51 0 1.02-.2 1.41-.59l7.78-7.78 2.81-2.81c.8-.78.8-2.07 0-2.86zM5.41 20L4 18.59l7.72-7.72 1.47 1.35L5.41 20z\"/>\n",
              "  </svg>\n",
              "      </button>\n",
              "      \n",
              "  <style>\n",
              "    .colab-df-container {\n",
              "      display:flex;\n",
              "      flex-wrap:wrap;\n",
              "      gap: 12px;\n",
              "    }\n",
              "\n",
              "    .colab-df-convert {\n",
              "      background-color: #E8F0FE;\n",
              "      border: none;\n",
              "      border-radius: 50%;\n",
              "      cursor: pointer;\n",
              "      display: none;\n",
              "      fill: #1967D2;\n",
              "      height: 32px;\n",
              "      padding: 0 0 0 0;\n",
              "      width: 32px;\n",
              "    }\n",
              "\n",
              "    .colab-df-convert:hover {\n",
              "      background-color: #E2EBFA;\n",
              "      box-shadow: 0px 1px 2px rgba(60, 64, 67, 0.3), 0px 1px 3px 1px rgba(60, 64, 67, 0.15);\n",
              "      fill: #174EA6;\n",
              "    }\n",
              "\n",
              "    [theme=dark] .colab-df-convert {\n",
              "      background-color: #3B4455;\n",
              "      fill: #D2E3FC;\n",
              "    }\n",
              "\n",
              "    [theme=dark] .colab-df-convert:hover {\n",
              "      background-color: #434B5C;\n",
              "      box-shadow: 0px 1px 3px 1px rgba(0, 0, 0, 0.15);\n",
              "      filter: drop-shadow(0px 1px 2px rgba(0, 0, 0, 0.3));\n",
              "      fill: #FFFFFF;\n",
              "    }\n",
              "  </style>\n",
              "\n",
              "      <script>\n",
              "        const buttonEl =\n",
              "          document.querySelector('#df-aaccb9b6-7ed2-45c2-8ec3-2d3dc72ed91d button.colab-df-convert');\n",
              "        buttonEl.style.display =\n",
              "          google.colab.kernel.accessAllowed ? 'block' : 'none';\n",
              "\n",
              "        async function convertToInteractive(key) {\n",
              "          const element = document.querySelector('#df-aaccb9b6-7ed2-45c2-8ec3-2d3dc72ed91d');\n",
              "          const dataTable =\n",
              "            await google.colab.kernel.invokeFunction('convertToInteractive',\n",
              "                                                     [key], {});\n",
              "          if (!dataTable) return;\n",
              "\n",
              "          const docLinkHtml = 'Like what you see? Visit the ' +\n",
              "            '<a target=\"_blank\" href=https://colab.research.google.com/notebooks/data_table.ipynb>data table notebook</a>'\n",
              "            + ' to learn more about interactive tables.';\n",
              "          element.innerHTML = '';\n",
              "          dataTable['output_type'] = 'display_data';\n",
              "          await google.colab.output.renderOutput(dataTable, element);\n",
              "          const docLink = document.createElement('div');\n",
              "          docLink.innerHTML = docLinkHtml;\n",
              "          element.appendChild(docLink);\n",
              "        }\n",
              "      </script>\n",
              "    </div>\n",
              "  </div>\n",
              "  "
            ]
          },
          "metadata": {},
          "execution_count": 17
        }
      ],
      "source": [
        "agrupa2=pd.DataFrame()\n",
        "promedio=[0, 1]\n",
        "agrupa2['Promedio']=promedio\n",
        "agrupa2['CI']=union.groupby(by='Promedio')['Cociente Intelectual'].mean()\n",
        "agrupa2['GP']=union.groupby(by='Promedio')['Grupo'].mean()\n",
        "agrupa2['Percentil']=union.groupby(by='Promedio')['Percentil'].mean()\n",
        "agrupa2.T"
      ],
      "id": "a1f61de9"
    },
    {
      "cell_type": "code",
      "execution_count": 18,
      "metadata": {
        "colab": {
          "base_uri": "https://localhost:8080/",
          "height": 112
        },
        "id": "a4bf76f5",
        "outputId": "14253d9c-c4c1-4d19-f6fe-7bc2c6552dda"
      },
      "outputs": [
        {
          "output_type": "execute_result",
          "data": {
            "text/plain": [
              "            0   1\n",
              "Promedio    0   1\n",
              "Sexo      157  31"
            ],
            "text/html": [
              "\n",
              "  <div id=\"df-53f0452a-8108-4b44-9fa6-3051ec4b40e5\">\n",
              "    <div class=\"colab-df-container\">\n",
              "      <div>\n",
              "<style scoped>\n",
              "    .dataframe tbody tr th:only-of-type {\n",
              "        vertical-align: middle;\n",
              "    }\n",
              "\n",
              "    .dataframe tbody tr th {\n",
              "        vertical-align: top;\n",
              "    }\n",
              "\n",
              "    .dataframe thead th {\n",
              "        text-align: right;\n",
              "    }\n",
              "</style>\n",
              "<table border=\"1\" class=\"dataframe\">\n",
              "  <thead>\n",
              "    <tr style=\"text-align: right;\">\n",
              "      <th></th>\n",
              "      <th>0</th>\n",
              "      <th>1</th>\n",
              "    </tr>\n",
              "  </thead>\n",
              "  <tbody>\n",
              "    <tr>\n",
              "      <th>Promedio</th>\n",
              "      <td>0</td>\n",
              "      <td>1</td>\n",
              "    </tr>\n",
              "    <tr>\n",
              "      <th>Sexo</th>\n",
              "      <td>157</td>\n",
              "      <td>31</td>\n",
              "    </tr>\n",
              "  </tbody>\n",
              "</table>\n",
              "</div>\n",
              "      <button class=\"colab-df-convert\" onclick=\"convertToInteractive('df-53f0452a-8108-4b44-9fa6-3051ec4b40e5')\"\n",
              "              title=\"Convert this dataframe to an interactive table.\"\n",
              "              style=\"display:none;\">\n",
              "        \n",
              "  <svg xmlns=\"http://www.w3.org/2000/svg\" height=\"24px\"viewBox=\"0 0 24 24\"\n",
              "       width=\"24px\">\n",
              "    <path d=\"M0 0h24v24H0V0z\" fill=\"none\"/>\n",
              "    <path d=\"M18.56 5.44l.94 2.06.94-2.06 2.06-.94-2.06-.94-.94-2.06-.94 2.06-2.06.94zm-11 1L8.5 8.5l.94-2.06 2.06-.94-2.06-.94L8.5 2.5l-.94 2.06-2.06.94zm10 10l.94 2.06.94-2.06 2.06-.94-2.06-.94-.94-2.06-.94 2.06-2.06.94z\"/><path d=\"M17.41 7.96l-1.37-1.37c-.4-.4-.92-.59-1.43-.59-.52 0-1.04.2-1.43.59L10.3 9.45l-7.72 7.72c-.78.78-.78 2.05 0 2.83L4 21.41c.39.39.9.59 1.41.59.51 0 1.02-.2 1.41-.59l7.78-7.78 2.81-2.81c.8-.78.8-2.07 0-2.86zM5.41 20L4 18.59l7.72-7.72 1.47 1.35L5.41 20z\"/>\n",
              "  </svg>\n",
              "      </button>\n",
              "      \n",
              "  <style>\n",
              "    .colab-df-container {\n",
              "      display:flex;\n",
              "      flex-wrap:wrap;\n",
              "      gap: 12px;\n",
              "    }\n",
              "\n",
              "    .colab-df-convert {\n",
              "      background-color: #E8F0FE;\n",
              "      border: none;\n",
              "      border-radius: 50%;\n",
              "      cursor: pointer;\n",
              "      display: none;\n",
              "      fill: #1967D2;\n",
              "      height: 32px;\n",
              "      padding: 0 0 0 0;\n",
              "      width: 32px;\n",
              "    }\n",
              "\n",
              "    .colab-df-convert:hover {\n",
              "      background-color: #E2EBFA;\n",
              "      box-shadow: 0px 1px 2px rgba(60, 64, 67, 0.3), 0px 1px 3px 1px rgba(60, 64, 67, 0.15);\n",
              "      fill: #174EA6;\n",
              "    }\n",
              "\n",
              "    [theme=dark] .colab-df-convert {\n",
              "      background-color: #3B4455;\n",
              "      fill: #D2E3FC;\n",
              "    }\n",
              "\n",
              "    [theme=dark] .colab-df-convert:hover {\n",
              "      background-color: #434B5C;\n",
              "      box-shadow: 0px 1px 3px 1px rgba(0, 0, 0, 0.15);\n",
              "      filter: drop-shadow(0px 1px 2px rgba(0, 0, 0, 0.3));\n",
              "      fill: #FFFFFF;\n",
              "    }\n",
              "  </style>\n",
              "\n",
              "      <script>\n",
              "        const buttonEl =\n",
              "          document.querySelector('#df-53f0452a-8108-4b44-9fa6-3051ec4b40e5 button.colab-df-convert');\n",
              "        buttonEl.style.display =\n",
              "          google.colab.kernel.accessAllowed ? 'block' : 'none';\n",
              "\n",
              "        async function convertToInteractive(key) {\n",
              "          const element = document.querySelector('#df-53f0452a-8108-4b44-9fa6-3051ec4b40e5');\n",
              "          const dataTable =\n",
              "            await google.colab.kernel.invokeFunction('convertToInteractive',\n",
              "                                                     [key], {});\n",
              "          if (!dataTable) return;\n",
              "\n",
              "          const docLinkHtml = 'Like what you see? Visit the ' +\n",
              "            '<a target=\"_blank\" href=https://colab.research.google.com/notebooks/data_table.ipynb>data table notebook</a>'\n",
              "            + ' to learn more about interactive tables.';\n",
              "          element.innerHTML = '';\n",
              "          dataTable['output_type'] = 'display_data';\n",
              "          await google.colab.output.renderOutput(dataTable, element);\n",
              "          const docLink = document.createElement('div');\n",
              "          docLink.innerHTML = docLinkHtml;\n",
              "          element.appendChild(docLink);\n",
              "        }\n",
              "      </script>\n",
              "    </div>\n",
              "  </div>\n",
              "  "
            ]
          },
          "metadata": {},
          "execution_count": 18
        }
      ],
      "source": [
        "agrupa3=pd.DataFrame()\n",
        "promedio=[0, 1]\n",
        "agrupa3['Promedio']=promedio\n",
        "agrupa3['Sexo']=union.groupby(by='Promedio')['Genero'].size()\n",
        "agrupa3.T"
      ],
      "id": "a4bf76f5"
    },
    {
      "cell_type": "code",
      "execution_count": 19,
      "metadata": {
        "id": "056058c6"
      },
      "outputs": [],
      "source": [
        "Y=union.iloc[:,-1:]\n",
        "X=union.iloc[:,0:-1]"
      ],
      "id": "056058c6"
    },
    {
      "cell_type": "markdown",
      "metadata": {
        "id": "f5733b5d"
      },
      "source": [
        "Ganancia de información\n",
        "\n",
        "La ganancia de información calcula la reducción de la entropía de la transformación de un conjunto de datos. Puede utilizarse para la selección de características evaluando la ganancia de información de cada variable en el contexto de la variable objetivo."
      ],
      "id": "f5733b5d"
    },
    {
      "cell_type": "code",
      "execution_count": 20,
      "metadata": {
        "colab": {
          "base_uri": "https://localhost:8080/",
          "height": 426
        },
        "id": "bf48575a",
        "outputId": "3befcd54-d05f-4a1f-a97e-f36da3c6d670",
        "scrolled": true
      },
      "outputs": [
        {
          "output_type": "stream",
          "name": "stderr",
          "text": [
            "/usr/local/lib/python3.10/dist-packages/sklearn/utils/validation.py:1143: DataConversionWarning: A column-vector y was passed when a 1d array was expected. Please change the shape of y to (n_samples, ), for example using ravel().\n",
            "  y = column_or_1d(y, warn=True)\n"
          ]
        },
        {
          "output_type": "display_data",
          "data": {
            "text/plain": [
              "<Figure size 640x480 with 1 Axes>"
            ],
            "image/png": "[encoded data removed]"
          },
          "metadata": {}
        }
      ],
      "source": [
        "from sklearn.feature_selection import SelectKBest, mutual_info_classif\n",
        "import matplotlib.pyplot as plt\n",
        "%matplotlib inline\n",
        "\n",
        "importances=mutual_info_classif(X,Y)\n",
        "\n",
        "feat_importances = pd.Series(importances, union.columns[0:len(union.columns)-1])\n",
        "feat_importances.plot(kind='barh', color='teal')\n",
        "plt.show()"
      ],
      "id": "bf48575a"
    },
    {
      "cell_type": "markdown",
      "metadata": {
        "id": "7f1c4538"
      },
      "source": [
        "La prueba de Chi-cuadrado se utiliza para características categóricas en un conjunto de datos. Calculamos el Chi-cuadrado entre cada característica y el objetivo y seleccionamos el número deseado de características con las mejores puntuaciones de Chi-cuadrado. Para aplicar correctamente el chi-cuadrado con el fin de probar la relación entre varias características del conjunto de datos y la variable objetivo, deben cumplirse las siguientes condiciones: las variables deben ser categóricas, muestreadas de forma independiente y los valores deben tener una frecuencia esperada superior a 5."
      ],
      "id": "7f1c4538"
    },
    {
      "cell_type": "code",
      "execution_count": 21,
      "metadata": {
        "colab": {
          "base_uri": "https://localhost:8080/"
        },
        "id": "06b2c3ed",
        "outputId": "018908df-03ad-4391-e132-5742e3406a84"
      },
      "outputs": [
        {
          "output_type": "stream",
          "name": "stdout",
          "text": [
            "Original features number:  48\n",
            "Reduced features number:  18\n"
          ]
        },
        {
          "output_type": "execute_result",
          "data": {
            "text/plain": [
              "188"
            ]
          },
          "metadata": {},
          "execution_count": 21
        }
      ],
      "source": [
        "from sklearn.feature_selection import SelectKBest\n",
        "from sklearn.feature_selection import chi2\n",
        "\n",
        "Xcat=X.astype(int)\n",
        "chi2_features=SelectKBest(chi2, k=18)\n",
        "X_kbest_features=chi2_features.fit_transform(Xcat, Y)\n",
        "#Reduced features\n",
        "print('Original features number: ', Xcat.shape[1])\n",
        "print('Reduced features number: ',X_kbest_features.shape[1])\n",
        "\n",
        "X_kbest_features.shape[0]\n",
        "\n"
      ],
      "id": "06b2c3ed"
    },
    {
      "cell_type": "code",
      "execution_count": 22,
      "metadata": {
        "colab": {
          "base_uri": "https://localhost:8080/"
        },
        "id": "2c4fa3ed",
        "outputId": "b9c29a86-b197-4d6f-debb-13b6081bca94"
      },
      "outputs": [
        {
          "output_type": "execute_result",
          "data": {
            "text/plain": [
              "array([[39, 39, 73, ...,  4, 43, 25],\n",
              "       [39, 39, 73, ...,  4, 43, 25],\n",
              "       [39, 34, 71, ...,  2, 53, 75],\n",
              "       ...,\n",
              "       [43, 51, 84, ...,  3, 46, 50],\n",
              "       [43, 51, 84, ...,  3, 46, 50],\n",
              "       [39, 38, 73, ...,  5, 34,  5]])"
            ]
          },
          "metadata": {},
          "execution_count": 22
        }
      ],
      "source": [
        "X_kbest_features"
      ],
      "id": "2c4fa3ed"
    },
    {
      "cell_type": "markdown",
      "metadata": {
        "id": "6f68c4ba"
      },
      "source": [
        "Relief"
      ],
      "id": "6f68c4ba"
    },
    {
      "cell_type": "code",
      "execution_count": 23,
      "metadata": {
        "id": "Vu1rHvlGEUQW",
        "colab": {
          "base_uri": "https://localhost:8080/"
        },
        "outputId": "c1d99d4a-c7a9-47b4-bd91-e86d833c3d62"
      },
      "outputs": [
        {
          "output_type": "stream",
          "name": "stdout",
          "text": [
            "Collecting skrebate\n",
            "  Downloading skrebate-0.62.tar.gz (19 kB)\n",
            "  Preparing metadata (setup.py) ... \u001b[?25l\u001b[?25hdone\n",
            "Requirement already satisfied: numpy in /usr/local/lib/python3.10/dist-packages (from skrebate) (1.22.4)\n",
            "Requirement already satisfied: scipy in /usr/local/lib/python3.10/dist-packages (from skrebate) (1.10.1)\n",
            "Requirement already satisfied: scikit-learn in /usr/local/lib/python3.10/dist-packages (from skrebate) (1.2.2)\n",
            "Requirement already satisfied: joblib>=1.1.1 in /usr/local/lib/python3.10/dist-packages (from scikit-learn->skrebate) (1.2.0)\n",
            "Requirement already satisfied: threadpoolctl>=2.0.0 in /usr/local/lib/python3.10/dist-packages (from scikit-learn->skrebate) (3.1.0)\n",
            "Building wheels for collected packages: skrebate\n",
            "  Building wheel for skrebate (setup.py) ... \u001b[?25l\u001b[?25hdone\n",
            "  Created wheel for skrebate: filename=skrebate-0.62-py3-none-any.whl size=29253 sha256=0634037b162274afc8723d598ff6d27020471ca57f60767f6e71f51b98824150\n",
            "  Stored in directory: /root/.cache/pip/wheels/dd/67/40/683074a684607162bd0e34dcf7ccdfcab5861c3b2a83286f3a\n",
            "Successfully built skrebate\n",
            "Installing collected packages: skrebate\n",
            "Successfully installed skrebate-0.62\n"
          ]
        }
      ],
      "source": [
        "pip install skrebate"
      ],
      "id": "Vu1rHvlGEUQW"
    },
    {
      "cell_type": "code",
      "execution_count": 24,
      "metadata": {
        "id": "6a5a5817"
      },
      "outputs": [],
      "source": [
        "import pandas as pd\n",
        "import numpy as np\n",
        "from skrebate import ReliefF\n",
        "from sklearn.feature_selection import mutual_info_classif\n",
        "from sklearn.model_selection import train_test_split\n",
        "from sklearn.preprocessing import MinMaxScaler\n",
        "from sklearn.neighbors import KNeighborsClassifier\n",
        "from sklearn.metrics import accuracy_score\n",
        "import matplotlib.pyplot as plt"
      ],
      "id": "6a5a5817"
    },
    {
      "cell_type": "code",
      "execution_count": 25,
      "metadata": {
        "id": "efdb4532"
      },
      "outputs": [],
      "source": [
        "y = union.pop('Promedio').values\n",
        "X_raw = union.values"
      ],
      "id": "efdb4532"
    },
    {
      "cell_type": "code",
      "execution_count": 26,
      "metadata": {
        "id": "kXIsy938f-Wq",
        "colab": {
          "base_uri": "https://localhost:8080/"
        },
        "outputId": "ee26026e-4491-44dd-f466-4ededf973ae4"
      },
      "outputs": [
        {
          "output_type": "execute_result",
          "data": {
            "text/plain": [
              "array([[76., 34., 37., ...,  4., 43., 25.],\n",
              "       [76., 34., 37., ...,  4., 43., 25.],\n",
              "       [73., 37., 41., ...,  2., 53., 75.],\n",
              "       ...,\n",
              "       [89., 40., 49., ...,  3., 46., 50.],\n",
              "       [89., 40., 49., ...,  3., 46., 50.],\n",
              "       [73., 36., 38., ...,  5., 34.,  5.]])"
            ]
          },
          "metadata": {},
          "execution_count": 26
        }
      ],
      "source": [
        "X_raw"
      ],
      "id": "kXIsy938f-Wq"
    },
    {
      "cell_type": "code",
      "execution_count": 27,
      "metadata": {
        "id": "6d105c8c",
        "colab": {
          "base_uri": "https://localhost:8080/"
        },
        "outputId": "7ef14968-db2d-49dd-b9fc-6eacfc5fada7"
      },
      "outputs": [
        {
          "output_type": "execute_result",
          "data": {
            "text/plain": [
              "((94, 48), (94, 48))"
            ]
          },
          "metadata": {},
          "execution_count": 27
        }
      ],
      "source": [
        "X_tr_raw, X_ts_raw, y_train, y_test = train_test_split(X_raw, y,\n",
        "                                                       random_state=4, test_size=1/2)\n",
        "scaler = MinMaxScaler()\n",
        "X_train = scaler.fit_transform(X_tr_raw)\n",
        "X_test = scaler.transform(X_ts_raw)\n",
        "\n",
        "feature_names = union.columns\n",
        "X_train.shape, X_test.shape"
      ],
      "id": "6d105c8c"
    },
    {
      "cell_type": "code",
      "execution_count": 28,
      "metadata": {
        "id": "gS7jsmfIgKJN",
        "colab": {
          "base_uri": "https://localhost:8080/"
        },
        "outputId": "200de095-b7ee-4055-b70f-fef0bc9a8742"
      },
      "outputs": [
        {
          "output_type": "execute_result",
          "data": {
            "text/plain": [
              "array([[0.24324324, 0.47619048, 0.19047619, ..., 0.5       , 0.72972973,\n",
              "        0.5       ],\n",
              "       [0.21621622, 0.57142857, 0.47619048, ..., 0.5       , 0.81081081,\n",
              "        0.5       ],\n",
              "       [0.18918919, 0.61904762, 0.52380952, ..., 0.75      , 0.54054054,\n",
              "        0.05555556],\n",
              "       ...,\n",
              "       [0.48648649, 0.33333333, 0.57142857, ..., 0.25      , 0.91891892,\n",
              "        0.77777778],\n",
              "       [0.02702703, 1.        , 0.47619048, ..., 0.5       , 0.81081081,\n",
              "        0.5       ],\n",
              "       [0.32432432, 0.33333333, 0.23809524, ..., 0.25      , 0.91891892,\n",
              "        0.77777778]])"
            ]
          },
          "metadata": {},
          "execution_count": 28
        }
      ],
      "source": [
        "X_test"
      ],
      "id": "gS7jsmfIgKJN"
    },
    {
      "cell_type": "code",
      "execution_count": 29,
      "metadata": {
        "id": "ef2da494"
      },
      "outputs": [],
      "source": [
        "reliefFS = ReliefF(n_features_to_select=48, n_neighbors=100, n_jobs = -1)"
      ],
      "id": "ef2da494"
    },
    {
      "cell_type": "code",
      "execution_count": 30,
      "metadata": {
        "id": "512ff850",
        "colab": {
          "base_uri": "https://localhost:8080/",
          "height": 75
        },
        "outputId": "83396990-d9bb-4c10-bdfb-df5730df8b08"
      },
      "outputs": [
        {
          "output_type": "execute_result",
          "data": {
            "text/plain": [
              "ReliefF(n_features_to_select=48, n_jobs=-1)"
            ],
            "text/html": [
              "<style>#sk-container-id-1 {color: black;background-color: white;}#sk-container-id-1 pre{padding: 0;}#sk-container-id-1 div.sk-toggleable {background-color: white;}#sk-container-id-1 label.sk-toggleable__label {cursor: pointer;display: block;width: 100%;margin-bottom: 0;padding: 0.3em;box-sizing: border-box;text-align: center;}#sk-container-id-1 label.sk-toggleable__label-arrow:before {content: \"▸\";float: left;margin-right: 0.25em;color: #696969;}#sk-container-id-1 label.sk-toggleable__label-arrow:hover:before {color: black;}#sk-container-id-1 div.sk-estimator:hover label.sk-toggleable__label-arrow:before {color: black;}#sk-container-id-1 div.sk-toggleable__content {max-height: 0;max-width: 0;overflow: hidden;text-align: left;background-color: #f0f8ff;}#sk-container-id-1 div.sk-toggleable__content pre {margin: 0.2em;color: black;border-radius: 0.25em;background-color: #f0f8ff;}#sk-container-id-1 input.sk-toggleable__control:checked~div.sk-toggleable__content {max-height: 200px;max-width: 100%;overflow: auto;}#sk-container-id-1 input.sk-toggleable__control:checked~label.sk-toggleable__label-arrow:before {content: \"▾\";}#sk-container-id-1 div.sk-estimator input.sk-toggleable__control:checked~label.sk-toggleable__label {background-color: #d4ebff;}#sk-container-id-1 div.sk-label input.sk-toggleable__control:checked~label.sk-toggleable__label {background-color: #d4ebff;}#sk-container-id-1 input.sk-hidden--visually {border: 0;clip: rect(1px 1px 1px 1px);clip: rect(1px, 1px, 1px, 1px);height: 1px;margin: -1px;overflow: hidden;padding: 0;position: absolute;width: 1px;}#sk-container-id-1 div.sk-estimator {font-family: monospace;background-color: #f0f8ff;border: 1px dotted black;border-radius: 0.25em;box-sizing: border-box;margin-bottom: 0.5em;}#sk-container-id-1 div.sk-estimator:hover {background-color: #d4ebff;}#sk-container-id-1 div.sk-parallel-item::after {content: \"\";width: 100%;border-bottom: 1px solid gray;flex-grow: 1;}#sk-container-id-1 div.sk-label:hover label.sk-toggleable__label {background-color: #d4ebff;}#sk-container-id-1 div.sk-serial::before {content: \"\";position: absolute;border-left: 1px solid gray;box-sizing: border-box;top: 0;bottom: 0;left: 50%;z-index: 0;}#sk-container-id-1 div.sk-serial {display: flex;flex-direction: column;align-items: center;background-color: white;padding-right: 0.2em;padding-left: 0.2em;position: relative;}#sk-container-id-1 div.sk-item {position: relative;z-index: 1;}#sk-container-id-1 div.sk-parallel {display: flex;align-items: stretch;justify-content: center;background-color: white;position: relative;}#sk-container-id-1 div.sk-item::before, #sk-container-id-1 div.sk-parallel-item::before {content: \"\";position: absolute;border-left: 1px solid gray;box-sizing: border-box;top: 0;bottom: 0;left: 50%;z-index: -1;}#sk-container-id-1 div.sk-parallel-item {display: flex;flex-direction: column;z-index: 1;position: relative;background-color: white;}#sk-container-id-1 div.sk-parallel-item:first-child::after {align-self: flex-end;width: 50%;}#sk-container-id-1 div.sk-parallel-item:last-child::after {align-self: flex-start;width: 50%;}#sk-container-id-1 div.sk-parallel-item:only-child::after {width: 0;}#sk-container-id-1 div.sk-dashed-wrapped {border: 1px dashed gray;margin: 0 0.4em 0.5em 0.4em;box-sizing: border-box;padding-bottom: 0.4em;background-color: white;}#sk-container-id-1 div.sk-label label {font-family: monospace;font-weight: bold;display: inline-block;line-height: 1.2em;}#sk-container-id-1 div.sk-label-container {text-align: center;}#sk-container-id-1 div.sk-container {/* jupyter's `normalize.less` sets `[hidden] { display: none; }` but bootstrap.min.css set `[hidden] { display: none !important; }` so we also need the `!important` here to be able to override the default hidden behavior on the sphinx rendered scikit-learn.org. See: https://github.com/scikit-learn/scikit-learn/issues/21755 */display: inline-block !important;position: relative;}#sk-container-id-1 div.sk-text-repr-fallback {display: none;}</style><div id=\"sk-container-id-1\" class=\"sk-top-container\"><div class=\"sk-text-repr-fallback\"><pre>ReliefF(n_features_to_select=48, n_jobs=-1)</pre><b>In a Jupyter environment, please rerun this cell to show the HTML representation or trust the notebook. <br />On GitHub, the HTML representation is unable to render, please try loading this page with nbviewer.org.</b></div><div class=\"sk-container\" hidden><div class=\"sk-item\"><div class=\"sk-estimator sk-toggleable\"><input class=\"sk-toggleable__control sk-hidden--visually\" id=\"sk-estimator-id-1\" type=\"checkbox\" checked><label for=\"sk-estimator-id-1\" class=\"sk-toggleable__label sk-toggleable__label-arrow\">ReliefF</label><div class=\"sk-toggleable__content\"><pre>ReliefF(n_features_to_select=48, n_jobs=-1)</pre></div></div></div></div></div>"
            ]
          },
          "metadata": {},
          "execution_count": 30
        }
      ],
      "source": [
        "reliefFS"
      ],
      "id": "512ff850"
    },
    {
      "cell_type": "code",
      "execution_count": 31,
      "metadata": {
        "id": "fdb0fefe",
        "colab": {
          "base_uri": "https://localhost:8080/",
          "height": 75
        },
        "outputId": "002eae79-f74f-431d-912f-5cb7271b75d5"
      },
      "outputs": [
        {
          "output_type": "execute_result",
          "data": {
            "text/plain": [
              "ReliefF(n_features_to_select=48, n_jobs=-1)"
            ],
            "text/html": [
              "<style>#sk-container-id-2 {color: black;background-color: white;}#sk-container-id-2 pre{padding: 0;}#sk-container-id-2 div.sk-toggleable {background-color: white;}#sk-container-id-2 label.sk-toggleable__label {cursor: pointer;display: block;width: 100%;margin-bottom: 0;padding: 0.3em;box-sizing: border-box;text-align: center;}#sk-container-id-2 label.sk-toggleable__label-arrow:before {content: \"▸\";float: left;margin-right: 0.25em;color: #696969;}#sk-container-id-2 label.sk-toggleable__label-arrow:hover:before {color: black;}#sk-container-id-2 div.sk-estimator:hover label.sk-toggleable__label-arrow:before {color: black;}#sk-container-id-2 div.sk-toggleable__content {max-height: 0;max-width: 0;overflow: hidden;text-align: left;background-color: #f0f8ff;}#sk-container-id-2 div.sk-toggleable__content pre {margin: 0.2em;color: black;border-radius: 0.25em;background-color: #f0f8ff;}#sk-container-id-2 input.sk-toggleable__control:checked~div.sk-toggleable__content {max-height: 200px;max-width: 100%;overflow: auto;}#sk-container-id-2 input.sk-toggleable__control:checked~label.sk-toggleable__label-arrow:before {content: \"▾\";}#sk-container-id-2 div.sk-estimator input.sk-toggleable__control:checked~label.sk-toggleable__label {background-color: #d4ebff;}#sk-container-id-2 div.sk-label input.sk-toggleable__control:checked~label.sk-toggleable__label {background-color: #d4ebff;}#sk-container-id-2 input.sk-hidden--visually {border: 0;clip: rect(1px 1px 1px 1px);clip: rect(1px, 1px, 1px, 1px);height: 1px;margin: -1px;overflow: hidden;padding: 0;position: absolute;width: 1px;}#sk-container-id-2 div.sk-estimator {font-family: monospace;background-color: #f0f8ff;border: 1px dotted black;border-radius: 0.25em;box-sizing: border-box;margin-bottom: 0.5em;}#sk-container-id-2 div.sk-estimator:hover {background-color: #d4ebff;}#sk-container-id-2 div.sk-parallel-item::after {content: \"\";width: 100%;border-bottom: 1px solid gray;flex-grow: 1;}#sk-container-id-2 div.sk-label:hover label.sk-toggleable__label {background-color: #d4ebff;}#sk-container-id-2 div.sk-serial::before {content: \"\";position: absolute;border-left: 1px solid gray;box-sizing: border-box;top: 0;bottom: 0;left: 50%;z-index: 0;}#sk-container-id-2 div.sk-serial {display: flex;flex-direction: column;align-items: center;background-color: white;padding-right: 0.2em;padding-left: 0.2em;position: relative;}#sk-container-id-2 div.sk-item {position: relative;z-index: 1;}#sk-container-id-2 div.sk-parallel {display: flex;align-items: stretch;justify-content: center;background-color: white;position: relative;}#sk-container-id-2 div.sk-item::before, #sk-container-id-2 div.sk-parallel-item::before {content: \"\";position: absolute;border-left: 1px solid gray;box-sizing: border-box;top: 0;bottom: 0;left: 50%;z-index: -1;}#sk-container-id-2 div.sk-parallel-item {display: flex;flex-direction: column;z-index: 1;position: relative;background-color: white;}#sk-container-id-2 div.sk-parallel-item:first-child::after {align-self: flex-end;width: 50%;}#sk-container-id-2 div.sk-parallel-item:last-child::after {align-self: flex-start;width: 50%;}#sk-container-id-2 div.sk-parallel-item:only-child::after {width: 0;}#sk-container-id-2 div.sk-dashed-wrapped {border: 1px dashed gray;margin: 0 0.4em 0.5em 0.4em;box-sizing: border-box;padding-bottom: 0.4em;background-color: white;}#sk-container-id-2 div.sk-label label {font-family: monospace;font-weight: bold;display: inline-block;line-height: 1.2em;}#sk-container-id-2 div.sk-label-container {text-align: center;}#sk-container-id-2 div.sk-container {/* jupyter's `normalize.less` sets `[hidden] { display: none; }` but bootstrap.min.css set `[hidden] { display: none !important; }` so we also need the `!important` here to be able to override the default hidden behavior on the sphinx rendered scikit-learn.org. See: https://github.com/scikit-learn/scikit-learn/issues/21755 */display: inline-block !important;position: relative;}#sk-container-id-2 div.sk-text-repr-fallback {display: none;}</style><div id=\"sk-container-id-2\" class=\"sk-top-container\"><div class=\"sk-text-repr-fallback\"><pre>ReliefF(n_features_to_select=48, n_jobs=-1)</pre><b>In a Jupyter environment, please rerun this cell to show the HTML representation or trust the notebook. <br />On GitHub, the HTML representation is unable to render, please try loading this page with nbviewer.org.</b></div><div class=\"sk-container\" hidden><div class=\"sk-item\"><div class=\"sk-estimator sk-toggleable\"><input class=\"sk-toggleable__control sk-hidden--visually\" id=\"sk-estimator-id-2\" type=\"checkbox\" checked><label for=\"sk-estimator-id-2\" class=\"sk-toggleable__label sk-toggleable__label-arrow\">ReliefF</label><div class=\"sk-toggleable__content\"><pre>ReliefF(n_features_to_select=48, n_jobs=-1)</pre></div></div></div></div></div>"
            ]
          },
          "metadata": {},
          "execution_count": 31
        }
      ],
      "source": [
        "reliefFS.fit(X_train,y_train)"
      ],
      "id": "fdb0fefe"
    },
    {
      "cell_type": "code",
      "execution_count": 32,
      "metadata": {
        "id": "faaf3e06"
      },
      "outputs": [],
      "source": [
        "relief_scores = reliefFS.feature_importances_"
      ],
      "id": "faaf3e06"
    },
    {
      "cell_type": "code",
      "execution_count": 33,
      "metadata": {
        "id": "ee541a8e",
        "colab": {
          "base_uri": "https://localhost:8080/"
        },
        "outputId": "af9f1d7b-ce38-4443-ed85-231fb71d9046"
      },
      "outputs": [
        {
          "output_type": "execute_result",
          "data": {
            "text/plain": [
              "(94, 48)"
            ]
          },
          "metadata": {},
          "execution_count": 33
        }
      ],
      "source": [
        "reliefFS.transform(X_train).shape"
      ],
      "id": "ee541a8e"
    },
    {
      "cell_type": "code",
      "execution_count": 34,
      "metadata": {
        "id": "8b56aabc",
        "colab": {
          "base_uri": "https://localhost:8080/"
        },
        "outputId": "cdf312fe-0b59-4ee7-a32d-d09b4d67a154"
      },
      "outputs": [
        {
          "output_type": "execute_result",
          "data": {
            "text/plain": [
              "array([0.0770744 , 0.        , 0.        , 0.00030048, 0.        ,\n",
              "       0.00375777, 0.09329917, 0.        , 0.        , 0.        ,\n",
              "       0.        , 0.02052742, 0.05852148, 0.00378676, 0.        ,\n",
              "       0.02299977, 0.        , 0.05645382, 0.05013276, 0.00063983,\n",
              "       0.07142938, 0.        , 0.        , 0.        , 0.00406094,\n",
              "       0.        , 0.        , 0.05128547, 0.        , 0.05636153,\n",
              "       0.03432027, 0.00950674, 0.00618606, 0.10140153, 0.02632028,\n",
              "       0.0598179 , 0.        , 0.02788071, 0.        , 0.        ,\n",
              "       0.05512246, 0.        , 0.04902489, 0.03510072, 0.01560449,\n",
              "       0.02150927, 0.        , 0.00099145])"
            ]
          },
          "metadata": {},
          "execution_count": 34
        }
      ],
      "source": [
        "i_scores = mutual_info_classif(X_train,y_train)\n",
        "i_scores"
      ],
      "id": "8b56aabc"
    },
    {
      "cell_type": "code",
      "execution_count": 35,
      "metadata": {
        "id": "16802c94",
        "colab": {
          "base_uri": "https://localhost:8080/"
        },
        "outputId": "2f148804-fc4b-4194-d277-d6cc17c4ad7a"
      },
      "outputs": [
        {
          "output_type": "execute_result",
          "data": {
            "text/plain": [
              "SignificanceResult(statistic=-0.20792779778458234, pvalue=0.15614805735154844)"
            ]
          },
          "metadata": {},
          "execution_count": 35
        }
      ],
      "source": [
        "from scipy import stats\n",
        "stats.spearmanr(relief_scores, i_scores)"
      ],
      "id": "16802c94"
    },
    {
      "cell_type": "markdown",
      "metadata": {
        "id": "T5BpF1bqUEGE"
      },
      "source": [],
      "id": "T5BpF1bqUEGE"
    },
    {
      "cell_type": "markdown",
      "metadata": {
        "id": "cJnzArs5UGqp"
      },
      "source": [
        "![image.png](data:image/png;base64,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)"
      ],
      "id": "cJnzArs5UGqp"
    },
    {
      "cell_type": "code",
      "execution_count": 35,
      "metadata": {
        "id": "geisyDNbUDwY"
      },
      "outputs": [],
      "source": [],
      "id": "geisyDNbUDwY"
    },
    {
      "cell_type": "code",
      "execution_count": 36,
      "metadata": {
        "id": "6a91f080",
        "colab": {
          "base_uri": "https://localhost:8080/",
          "height": 1000
        },
        "outputId": "f64bc3a3-0344-40e4-a260-7fa7c006556a"
      },
      "outputs": [
        {
          "output_type": "execute_result",
          "data": {
            "text/plain": [
              "                                                    Mutual Info.   ReliefF\n",
              "Feature                                                                   \n",
              "Promedio general de Educacion media superior            0.101402  0.014415\n",
              "Cooperaci—n                                             0.093299 -0.035972\n",
              "Afabilidad                                              0.077074 -0.024856\n",
              "Edad                                                    0.071429  0.015674\n",
              "Promedio general de Educacion Secundaria                0.059818 -0.045512\n",
              "Estabilidad emocional                                   0.058521  0.032142\n",
              "Cuentas con computadora portatil                        0.056454  0.034233\n",
              "Genero                                                  0.056362  0.041033\n",
              "Te sientes nervioso en las evaluaciones de prog...      0.055122  0.030300\n",
              "Faltas a la clase de programacion de computadoras       0.051285  0.006687\n",
              "Disfrutas de tu clase de programacion de comput...      0.050133 -0.022606\n",
              "Tienes internet en casa                                 0.049025 -0.037234\n",
              "Tienes tiempo para practicar la programacion de...      0.035101 -0.012842\n",
              "Medio ambiente de la clase                              0.034320 -0.042078\n",
              "Te ayuda con la resolucion de dudas el profesor         0.027881  0.031972\n",
              "Promedio general de educacion primaria                  0.026320  0.030229\n",
              "Ausencia del maestro en la clase de programacio...      0.023000  0.053438\n",
              "Grupo                                                   0.021509  0.080357\n",
              "Escrupulosidad                                          0.020527 -0.011849\n",
              "Cociente Intelectual                                    0.015604  0.067914\n",
              "Numero de horas individuales de estudio                 0.009507  0.025142\n",
              "Pones atencion en tu clase de programacion de c...      0.006186 -0.006307\n",
              "Existe un involucramiento del docente en el con...      0.004061  0.078134\n",
              "Persistencia                                            0.003787  0.009195\n",
              "Control de impulsos                                     0.003758 -0.002329\n",
              "Percentil                                               0.000991  0.063184\n",
              "Dominio del maestro en las clases de programacion       0.000640  0.002052\n",
              "Aperutura mental                                        0.000300  0.044868\n",
              "Dinamismo                                               0.000000  0.046504\n",
              "Numero de respuestas correctas                          0.000000  0.063882\n",
              "Apertura a la experiencia                               0.000000  0.051112\n",
              "Control de Emociones                                    0.000000  0.060903\n",
              "Te surge el interes por la materia de programac...      0.000000 -0.005072\n",
              "Cordialidad                                             0.000000  0.026963\n",
              "Te sientes motivado por los logros en las clase...      0.000000  0.025152\n",
              "Te sientes indefenso en la materia de programac...      0.000000  0.004027\n",
              "Existe alguna conexion entre los estudiantes y ...      0.000000  0.009935\n",
              "Sufres de ansiedad en la clase de programacion ...      0.000000  0.023917\n",
              "Apertura a culturas                                     0.000000  0.013662\n",
              "Energia                                                 0.000000  0.076713\n",
              "Responsabilidad                                         0.000000 -0.007029\n",
              "Cuentas con computadora de escritorio en casa           0.000000 -0.012158\n",
              "El profesor te motiva para estudiar la materia ...      0.000000  0.022606\n",
              "Frecuencia con que realizas tareas de programac...      0.000000  0.007200\n",
              "Estudias para tus evaluaciones de programacion ...      0.000000  0.003002\n",
              "Existe una habilidad de maestro en la materia d...      0.000000  0.013279\n",
              "Existe un metodo de ensenanza en la clase de pr...      0.000000  0.004483\n",
              "Dominancia                                              0.000000  0.063309"
            ],
            "text/html": [
              "\n",
              "  <div id=\"df-2e383ad3-6394-47d8-b76e-1a6c0d1019a6\">\n",
              "    <div class=\"colab-df-container\">\n",
              "      <div>\n",
              "<style scoped>\n",
              "    .dataframe tbody tr th:only-of-type {\n",
              "        vertical-align: middle;\n",
              "    }\n",
              "\n",
              "    .dataframe tbody tr th {\n",
              "        vertical-align: top;\n",
              "    }\n",
              "\n",
              "    .dataframe thead th {\n",
              "        text-align: right;\n",
              "    }\n",
              "</style>\n",
              "<table border=\"1\" class=\"dataframe\">\n",
              "  <thead>\n",
              "    <tr style=\"text-align: right;\">\n",
              "      <th></th>\n",
              "      <th>Mutual Info.</th>\n",
              "      <th>ReliefF</th>\n",
              "    </tr>\n",
              "    <tr>\n",
              "      <th>Feature</th>\n",
              "      <th></th>\n",
              "      <th></th>\n",
              "    </tr>\n",
              "  </thead>\n",
              "  <tbody>\n",
              "    <tr>\n",
              "      <th>Promedio general de Educacion media superior</th>\n",
              "      <td>0.101402</td>\n",
              "      <td>0.014415</td>\n",
              "    </tr>\n",
              "    <tr>\n",
              "      <th>Cooperaci—n</th>\n",
              "      <td>0.093299</td>\n",
              "      <td>-0.035972</td>\n",
              "    </tr>\n",
              "    <tr>\n",
              "      <th>Afabilidad</th>\n",
              "      <td>0.077074</td>\n",
              "      <td>-0.024856</td>\n",
              "    </tr>\n",
              "    <tr>\n",
              "      <th>Edad</th>\n",
              "      <td>0.071429</td>\n",
              "      <td>0.015674</td>\n",
              "    </tr>\n",
              "    <tr>\n",
              "      <th>Promedio general de Educacion Secundaria</th>\n",
              "      <td>0.059818</td>\n",
              "      <td>-0.045512</td>\n",
              "    </tr>\n",
              "    <tr>\n",
              "      <th>Estabilidad emocional</th>\n",
              "      <td>0.058521</td>\n",
              "      <td>0.032142</td>\n",
              "    </tr>\n",
              "    <tr>\n",
              "      <th>Cuentas con computadora portatil</th>\n",
              "      <td>0.056454</td>\n",
              "      <td>0.034233</td>\n",
              "    </tr>\n",
              "    <tr>\n",
              "      <th>Genero</th>\n",
              "      <td>0.056362</td>\n",
              "      <td>0.041033</td>\n",
              "    </tr>\n",
              "    <tr>\n",
              "      <th>Te sientes nervioso en las evaluaciones de programacion de computadoras</th>\n",
              "      <td>0.055122</td>\n",
              "      <td>0.030300</td>\n",
              "    </tr>\n",
              "    <tr>\n",
              "      <th>Faltas a la clase de programacion de computadoras</th>\n",
              "      <td>0.051285</td>\n",
              "      <td>0.006687</td>\n",
              "    </tr>\n",
              "    <tr>\n",
              "      <th>Disfrutas de tu clase de programacion de computadoras</th>\n",
              "      <td>0.050133</td>\n",
              "      <td>-0.022606</td>\n",
              "    </tr>\n",
              "    <tr>\n",
              "      <th>Tienes internet en casa</th>\n",
              "      <td>0.049025</td>\n",
              "      <td>-0.037234</td>\n",
              "    </tr>\n",
              "    <tr>\n",
              "      <th>Tienes tiempo para practicar la programacion de computadoras</th>\n",
              "      <td>0.035101</td>\n",
              "      <td>-0.012842</td>\n",
              "    </tr>\n",
              "    <tr>\n",
              "      <th>Medio ambiente de la clase</th>\n",
              "      <td>0.034320</td>\n",
              "      <td>-0.042078</td>\n",
              "    </tr>\n",
              "    <tr>\n",
              "      <th>Te ayuda con la resolucion de dudas el profesor</th>\n",
              "      <td>0.027881</td>\n",
              "      <td>0.031972</td>\n",
              "    </tr>\n",
              "    <tr>\n",
              "      <th>Promedio general de educacion primaria</th>\n",
              "      <td>0.026320</td>\n",
              "      <td>0.030229</td>\n",
              "    </tr>\n",
              "    <tr>\n",
              "      <th>Ausencia del maestro en la clase de programacion de computadoras</th>\n",
              "      <td>0.023000</td>\n",
              "      <td>0.053438</td>\n",
              "    </tr>\n",
              "    <tr>\n",
              "      <th>Grupo</th>\n",
              "      <td>0.021509</td>\n",
              "      <td>0.080357</td>\n",
              "    </tr>\n",
              "    <tr>\n",
              "      <th>Escrupulosidad</th>\n",
              "      <td>0.020527</td>\n",
              "      <td>-0.011849</td>\n",
              "    </tr>\n",
              "    <tr>\n",
              "      <th>Cociente Intelectual</th>\n",
              "      <td>0.015604</td>\n",
              "      <td>0.067914</td>\n",
              "    </tr>\n",
              "    <tr>\n",
              "      <th>Numero de horas individuales de estudio</th>\n",
              "      <td>0.009507</td>\n",
              "      <td>0.025142</td>\n",
              "    </tr>\n",
              "    <tr>\n",
              "      <th>Pones atencion en tu clase de programacion de computadoras</th>\n",
              "      <td>0.006186</td>\n",
              "      <td>-0.006307</td>\n",
              "    </tr>\n",
              "    <tr>\n",
              "      <th>Existe un involucramiento del docente en el contenido educativo</th>\n",
              "      <td>0.004061</td>\n",
              "      <td>0.078134</td>\n",
              "    </tr>\n",
              "    <tr>\n",
              "      <th>Persistencia</th>\n",
              "      <td>0.003787</td>\n",
              "      <td>0.009195</td>\n",
              "    </tr>\n",
              "    <tr>\n",
              "      <th>Control de impulsos</th>\n",
              "      <td>0.003758</td>\n",
              "      <td>-0.002329</td>\n",
              "    </tr>\n",
              "    <tr>\n",
              "      <th>Percentil</th>\n",
              "      <td>0.000991</td>\n",
              "      <td>0.063184</td>\n",
              "    </tr>\n",
              "    <tr>\n",
              "      <th>Dominio del maestro en las clases de programacion</th>\n",
              "      <td>0.000640</td>\n",
              "      <td>0.002052</td>\n",
              "    </tr>\n",
              "    <tr>\n",
              "      <th>Aperutura mental</th>\n",
              "      <td>0.000300</td>\n",
              "      <td>0.044868</td>\n",
              "    </tr>\n",
              "    <tr>\n",
              "      <th>Dinamismo</th>\n",
              "      <td>0.000000</td>\n",
              "      <td>0.046504</td>\n",
              "    </tr>\n",
              "    <tr>\n",
              "      <th>Numero de respuestas correctas</th>\n",
              "      <td>0.000000</td>\n",
              "      <td>0.063882</td>\n",
              "    </tr>\n",
              "    <tr>\n",
              "      <th>Apertura a la experiencia</th>\n",
              "      <td>0.000000</td>\n",
              "      <td>0.051112</td>\n",
              "    </tr>\n",
              "    <tr>\n",
              "      <th>Control de Emociones</th>\n",
              "      <td>0.000000</td>\n",
              "      <td>0.060903</td>\n",
              "    </tr>\n",
              "    <tr>\n",
              "      <th>Te surge el interes por la materia de programacion de computadoras</th>\n",
              "      <td>0.000000</td>\n",
              "      <td>-0.005072</td>\n",
              "    </tr>\n",
              "    <tr>\n",
              "      <th>Cordialidad</th>\n",
              "      <td>0.000000</td>\n",
              "      <td>0.026963</td>\n",
              "    </tr>\n",
              "    <tr>\n",
              "      <th>Te sientes motivado por los logros en las clases de programacion de computadoras</th>\n",
              "      <td>0.000000</td>\n",
              "      <td>0.025152</td>\n",
              "    </tr>\n",
              "    <tr>\n",
              "      <th>Te sientes indefenso en la materia de programacion de computadoras</th>\n",
              "      <td>0.000000</td>\n",
              "      <td>0.004027</td>\n",
              "    </tr>\n",
              "    <tr>\n",
              "      <th>Existe alguna conexion entre los estudiantes y el profesor o profesora de la materia de programacion de computadoras</th>\n",
              "      <td>0.000000</td>\n",
              "      <td>0.009935</td>\n",
              "    </tr>\n",
              "    <tr>\n",
              "      <th>Sufres de ansiedad en la clase de programacion de computadoras</th>\n",
              "      <td>0.000000</td>\n",
              "      <td>0.023917</td>\n",
              "    </tr>\n",
              "    <tr>\n",
              "      <th>Apertura a culturas</th>\n",
              "      <td>0.000000</td>\n",
              "      <td>0.013662</td>\n",
              "    </tr>\n",
              "    <tr>\n",
              "      <th>Energia</th>\n",
              "      <td>0.000000</td>\n",
              "      <td>0.076713</td>\n",
              "    </tr>\n",
              "    <tr>\n",
              "      <th>Responsabilidad</th>\n",
              "      <td>0.000000</td>\n",
              "      <td>-0.007029</td>\n",
              "    </tr>\n",
              "    <tr>\n",
              "      <th>Cuentas con computadora de escritorio en casa</th>\n",
              "      <td>0.000000</td>\n",
              "      <td>-0.012158</td>\n",
              "    </tr>\n",
              "    <tr>\n",
              "      <th>El profesor te motiva para estudiar la materia de programacion de computadoras</th>\n",
              "      <td>0.000000</td>\n",
              "      <td>0.022606</td>\n",
              "    </tr>\n",
              "    <tr>\n",
              "      <th>Frecuencia con que realizas tareas de programacion de computadoras</th>\n",
              "      <td>0.000000</td>\n",
              "      <td>0.007200</td>\n",
              "    </tr>\n",
              "    <tr>\n",
              "      <th>Estudias para tus evaluaciones de programacion de computadoras</th>\n",
              "      <td>0.000000</td>\n",
              "      <td>0.003002</td>\n",
              "    </tr>\n",
              "    <tr>\n",
              "      <th>Existe una habilidad de maestro en la materia de programacion de computadoras</th>\n",
              "      <td>0.000000</td>\n",
              "      <td>0.013279</td>\n",
              "    </tr>\n",
              "    <tr>\n",
              "      <th>Existe un metodo de ensenanza en la clase de programacion de computadoras</th>\n",
              "      <td>0.000000</td>\n",
              "      <td>0.004483</td>\n",
              "    </tr>\n",
              "    <tr>\n",
              "      <th>Dominancia</th>\n",
              "      <td>0.000000</td>\n",
              "      <td>0.063309</td>\n",
              "    </tr>\n",
              "  </tbody>\n",
              "</table>\n",
              "</div>\n",
              "      <button class=\"colab-df-convert\" onclick=\"convertToInteractive('df-2e383ad3-6394-47d8-b76e-1a6c0d1019a6')\"\n",
              "              title=\"Convert this dataframe to an interactive table.\"\n",
              "              style=\"display:none;\">\n",
              "        \n",
              "  <svg xmlns=\"http://www.w3.org/2000/svg\" height=\"24px\"viewBox=\"0 0 24 24\"\n",
              "       width=\"24px\">\n",
              "    <path d=\"M0 0h24v24H0V0z\" fill=\"none\"/>\n",
              "    <path d=\"M18.56 5.44l.94 2.06.94-2.06 2.06-.94-2.06-.94-.94-2.06-.94 2.06-2.06.94zm-11 1L8.5 8.5l.94-2.06 2.06-.94-2.06-.94L8.5 2.5l-.94 2.06-2.06.94zm10 10l.94 2.06.94-2.06 2.06-.94-2.06-.94-.94-2.06-.94 2.06-2.06.94z\"/><path d=\"M17.41 7.96l-1.37-1.37c-.4-.4-.92-.59-1.43-.59-.52 0-1.04.2-1.43.59L10.3 9.45l-7.72 7.72c-.78.78-.78 2.05 0 2.83L4 21.41c.39.39.9.59 1.41.59.51 0 1.02-.2 1.41-.59l7.78-7.78 2.81-2.81c.8-.78.8-2.07 0-2.86zM5.41 20L4 18.59l7.72-7.72 1.47 1.35L5.41 20z\"/>\n",
              "  </svg>\n",
              "      </button>\n",
              "      \n",
              "  <style>\n",
              "    .colab-df-container {\n",
              "      display:flex;\n",
              "      flex-wrap:wrap;\n",
              "      gap: 12px;\n",
              "    }\n",
              "\n",
              "    .colab-df-convert {\n",
              "      background-color: #E8F0FE;\n",
              "      border: none;\n",
              "      border-radius: 50%;\n",
              "      cursor: pointer;\n",
              "      display: none;\n",
              "      fill: #1967D2;\n",
              "      height: 32px;\n",
              "      padding: 0 0 0 0;\n",
              "      width: 32px;\n",
              "    }\n",
              "\n",
              "    .colab-df-convert:hover {\n",
              "      background-color: #E2EBFA;\n",
              "      box-shadow: 0px 1px 2px rgba(60, 64, 67, 0.3), 0px 1px 3px 1px rgba(60, 64, 67, 0.15);\n",
              "      fill: #174EA6;\n",
              "    }\n",
              "\n",
              "    [theme=dark] .colab-df-convert {\n",
              "      background-color: #3B4455;\n",
              "      fill: #D2E3FC;\n",
              "    }\n",
              "\n",
              "    [theme=dark] .colab-df-convert:hover {\n",
              "      background-color: #434B5C;\n",
              "      box-shadow: 0px 1px 3px 1px rgba(0, 0, 0, 0.15);\n",
              "      filter: drop-shadow(0px 1px 2px rgba(0, 0, 0, 0.3));\n",
              "      fill: #FFFFFF;\n",
              "    }\n",
              "  </style>\n",
              "\n",
              "      <script>\n",
              "        const buttonEl =\n",
              "          document.querySelector('#df-2e383ad3-6394-47d8-b76e-1a6c0d1019a6 button.colab-df-convert');\n",
              "        buttonEl.style.display =\n",
              "          google.colab.kernel.accessAllowed ? 'block' : 'none';\n",
              "\n",
              "        async function convertToInteractive(key) {\n",
              "          const element = document.querySelector('#df-2e383ad3-6394-47d8-b76e-1a6c0d1019a6');\n",
              "          const dataTable =\n",
              "            await google.colab.kernel.invokeFunction('convertToInteractive',\n",
              "                                                     [key], {});\n",
              "          if (!dataTable) return;\n",
              "\n",
              "          const docLinkHtml = 'Like what you see? Visit the ' +\n",
              "            '<a target=\"_blank\" href=https://colab.research.google.com/notebooks/data_table.ipynb>data table notebook</a>'\n",
              "            + ' to learn more about interactive tables.';\n",
              "          element.innerHTML = '';\n",
              "          dataTable['output_type'] = 'display_data';\n",
              "          await google.colab.output.renderOutput(dataTable, element);\n",
              "          const docLink = document.createElement('div');\n",
              "          docLink.innerHTML = docLinkHtml;\n",
              "          element.appendChild(docLink);\n",
              "        }\n",
              "      </script>\n",
              "    </div>\n",
              "  </div>\n",
              "  "
            ]
          },
          "metadata": {},
          "execution_count": 36
        }
      ],
      "source": [
        "\n",
        "df=pd.DataFrame({'Mutual Info.':i_scores,'ReliefF':relief_scores,'Feature':feature_names})\n",
        "df.set_index('Feature', inplace = True)\n",
        "df.sort_values('Mutual Info.', inplace = True, ascending = False)\n",
        "df"
      ],
      "id": "6a91f080"
    },
    {
      "cell_type": "code",
      "execution_count": 37,
      "metadata": {
        "id": "8bc5c41d",
        "colab": {
          "base_uri": "https://localhost:8080/",
          "height": 1000
        },
        "outputId": "572aee44-8336-453b-cd28-8c236c55a28c"
      },
      "outputs": [
        {
          "output_type": "execute_result",
          "data": {
            "text/plain": [
              "<matplotlib.legend.Legend at 0x7ff7d6397fa0>"
            ]
          },
          "metadata": {},
          "execution_count": 37
        },
        {
          "output_type": "display_data",
          "data": {
            "text/plain": [
              "<Figure size 640x480 with 2 Axes>"
            ],
            "image/png": "[encoded data removed]"
          },
          "metadata": {}
        }
      ],
      "source": [
        "fig, ax = plt.subplots()\n",
        "rr = range(0,len(feature_names))\n",
        "ax2 = ax.twinx()\n",
        "ax.plot(df.index, df[\"Mutual Info.\"], label='I-Gain')\n",
        "ax2.plot(df.index, df[\"ReliefF\"], color='red', label='Relief')\n",
        "ax.set_xticks(rr)\n",
        "\n",
        "ax.set_xticklabels(list(df.index), rotation = 90)\n",
        "ax.set_xlabel('Features', fontsize=12, fontweight='bold')\n",
        "ax.set_ylabel('I-Gain')\n",
        "ax2.set_ylabel('ReliefF')\n",
        "fig.legend(loc=\"upper right\", bbox_to_anchor=(1,1), bbox_transform=ax.transAxes)"
      ],
      "id": "8bc5c41d"
    },
    {
      "cell_type": "code",
      "execution_count": 38,
      "metadata": {
        "id": "-L7PpAVIFfCq",
        "colab": {
          "base_uri": "https://localhost:8080/"
        },
        "outputId": "0354c711-581e-4828-8120-38c168c7b846"
      },
      "outputs": [
        {
          "output_type": "execute_result",
          "data": {
            "text/plain": [
              "0.8404255319148937"
            ]
          },
          "metadata": {},
          "execution_count": 38
        }
      ],
      "source": [
        "model = KNeighborsClassifier(n_neighbors=3)\n",
        "model = model.fit(X_train,y_train)\n",
        "y_pred = model.predict(X_test)\n",
        "acc_all = accuracy_score(y_pred,y_test)\n",
        "acc_all"
      ],
      "id": "-L7PpAVIFfCq"
    },
    {
      "cell_type": "code",
      "execution_count": 39,
      "metadata": {
        "id": "WvdeQ6y8Ff-a",
        "colab": {
          "base_uri": "https://localhost:8080/"
        },
        "outputId": "689f5b8d-a11e-4dad-c063-a0eed8d3eeda"
      },
      "outputs": [
        {
          "output_type": "execute_result",
          "data": {
            "text/plain": [
              "48"
            ]
          },
          "metadata": {},
          "execution_count": 39
        }
      ],
      "source": [
        "n_features = X_train.shape[1]\n",
        "n_features"
      ],
      "id": "WvdeQ6y8Ff-a"
    },
    {
      "cell_type": "code",
      "execution_count": 40,
      "metadata": {
        "id": "r39ej8TMFt7n",
        "colab": {
          "base_uri": "https://localhost:8080/"
        },
        "outputId": "7e36b60a-413d-41bf-f024-3fca86d43640"
      },
      "outputs": [
        {
          "output_type": "execute_result",
          "data": {
            "text/plain": [
              "(94, 48)"
            ]
          },
          "metadata": {},
          "execution_count": 40
        }
      ],
      "source": [
        "X_tr_relief = reliefFS.transform(X_train)\n",
        "X_ts_relief = reliefFS.transform(X_test)\n",
        "X_tr_relief.shape"
      ],
      "id": "r39ej8TMFt7n"
    },
    {
      "cell_type": "code",
      "execution_count": 41,
      "metadata": {
        "id": "0eDlWg0MFtg6",
        "colab": {
          "base_uri": "https://localhost:8080/"
        },
        "outputId": "6da023d6-667c-4fe7-d174-460eaf5144c0"
      },
      "outputs": [
        {
          "output_type": "execute_result",
          "data": {
            "text/plain": [
              "0.8404255319148937"
            ]
          },
          "metadata": {},
          "execution_count": 41
        }
      ],
      "source": [
        "kNN_relief = model.fit(X_tr_relief,y_train)\n",
        "y_pred = kNN_relief.predict(X_ts_relief)\n",
        "acc_11 = accuracy_score(y_pred,y_test)\n",
        "acc_11"
      ],
      "id": "0eDlWg0MFtg6"
    },
    {
      "cell_type": "code",
      "execution_count": 42,
      "metadata": {
        "id": "k5JYNXgbF4G-",
        "colab": {
          "base_uri": "https://localhost:8080/",
          "height": 355
        },
        "outputId": "1d204b7f-f3e4-497d-8e9c-0466a769fcfd"
      },
      "outputs": [
        {
          "output_type": "display_data",
          "data": {
            "text/plain": [
              "<Figure size 250x350 with 1 Axes>"
            ],
            "image/png": "[encoded data removed]"
          },
          "metadata": {}
        }
      ],
      "source": [
        "import matplotlib.pyplot as plt\n",
        "import numpy as np\n",
        "%matplotlib inline\n",
        "\n",
        "fig, ax = plt.subplots(figsize=(2.5,3.5))\n",
        "width = 0.5\n",
        "sb = 'skyblue'\n",
        "\n",
        "options = ['All', 'ReliefF 11']\n",
        "scores = [acc_all,acc_11]\n",
        "\n",
        "y_pos = np.arange(len(options))\n",
        "\n",
        "p1 = ax.bar(y_pos, scores, width, align='center',\n",
        "            color=['red', 'blue'],alpha=0.5)\n",
        "\n",
        "ax.set_ylim([0.5, 1])\n",
        "plt.grid(axis = 'y')\n",
        "plt.yticks(np.arange(0.5,1.05,0.05))\n",
        "ax.text(0,acc_all, '%0.3f' % acc_all, ha='center', va = 'top')\n",
        "ax.text(1,acc_11, '%0.3f' % acc_11, ha='center',va = 'top')\n",
        "\n",
        "plt.xticks(y_pos, options)\n",
        "plt.ylabel('Test Set Accuracy')\n",
        "plt.xlabel('Features')\n",
        "plt.show()"
      ],
      "id": "k5JYNXgbF4G-"
    },
    {
      "cell_type": "code",
      "execution_count": 42,
      "metadata": {
        "id": "roFALePkavjD"
      },
      "outputs": [],
      "source": [],
      "id": "roFALePkavjD"
    },
    {
      "cell_type": "code",
      "execution_count": 43,
      "metadata": {
        "id": "9fb3029f"
      },
      "outputs": [],
      "source": [
        "data_query = df[(df['Mutual Info.'] > 0)]\n",
        "conteo=data_query.shape[0]\n",
        "\n",
        "data_query2=data_query[(data_query['ReliefF'])>0]\n",
        "\n",
        "\n",
        "\n",
        "X=pd.DataFrame()\n",
        "\n",
        "X['Promedio general de Educacion media superior']=union['Promedio general de Educacion media superior']\n",
        "X['Edad']=union['Edad']\n",
        "X['Estabilidad emocional']=union['Estabilidad emocional']\n",
        "X['Promedio general de educacion primaria']=union['Promedio general de educacion primaria']\n",
        "X['Aperutura mental']=union['Aperutura mental']\n",
        "X['Te ayuda con la resolucion de dudas el profesor']=union['Te ayuda con la resolucion de dudas el profesor']\n",
        "X['Persistencia']=union['Persistencia']\n",
        "X['Genero']=union['Genero']\n",
        "X['Ausencia del maestro en la clase de programacion de computadoras']=union['Ausencia del maestro en la clase de programacion de computadoras']\n",
        "X['Cuentas con computadora portatil']=union['Cuentas con computadora portatil']\n",
        "X['Existe un metodo de ensenanza en la clase de programacion de computadoras']=union['Existe un metodo de ensenanza en la clase de programacion de computadoras']\n",
        "X['Te sientes nervioso en las evaluaciones de programacion de computadoras']=union['Te sientes nervioso en las evaluaciones de programacion de computadoras']\n",
        "X['Numero de horas individuales de estudio']=union['Numero de horas individuales de estudio']\n",
        "X['Energia']=union['Energia']\n",
        "X['El profesor te motiva para estudiar la materia de programacion de computadoras']=union['El profesor te motiva para estudiar la materia de programacion de computadoras']\n",
        "X['Faltas a la clase de programacion de computadoras']=union['Faltas a la clase de programacion de computadoras']\n",
        "\n",
        "\n",
        "#for i in range(conteo):\n",
        "     # X[feature_names[i]]=union[feature_names[i]]\n",
        "\n",
        "\n",
        "X_train, X_test, y_train, y_test = train_test_split(X, y, random_state=0, test_size=0.3)\n"
      ],
      "id": "9fb3029f"
    },
    {
      "cell_type": "code",
      "execution_count": 44,
      "metadata": {
        "id": "26f453ad",
        "colab": {
          "base_uri": "https://localhost:8080/"
        },
        "outputId": "3e61bc6d-b67e-47e0-c924-7c3a2e413372"
      },
      "outputs": [
        {
          "output_type": "stream",
          "name": "stdout",
          "text": [
            "Number transactions X_train dataset:  (131, 16)\n",
            "Number transactions y_train dataset:  (131,)\n",
            "Number transactions X_test dataset:  (57, 16)\n",
            "Number transactions y_test dataset:  (57,)\n"
          ]
        }
      ],
      "source": [
        "print(\"Number transactions X_train dataset: \", X_train.shape)\n",
        "print(\"Number transactions y_train dataset: \", y_train.shape)\n",
        "print(\"Number transactions X_test dataset: \", X_test.shape)\n",
        "print(\"Number transactions y_test dataset: \", y_test.shape)"
      ],
      "id": "26f453ad"
    },
    {
      "cell_type": "code",
      "execution_count": 45,
      "metadata": {
        "id": "a6e6e38c"
      },
      "outputs": [],
      "source": [
        "from imblearn.over_sampling import SMOTE\n",
        "sm = SMOTE()\n",
        "X_train_res, y_train_res = sm.fit_resample(X_train, y_train.ravel())"
      ],
      "id": "a6e6e38c"
    },
    {
      "cell_type": "code",
      "execution_count": 46,
      "metadata": {
        "id": "9b5daf47"
      },
      "outputs": [],
      "source": [
        "from sklearn.model_selection import KFold\n",
        "cv = KFold(n_splits=5, random_state=None, shuffle=False)"
      ],
      "id": "9b5daf47"
    },
    {
      "cell_type": "code",
      "execution_count": 47,
      "metadata": {
        "id": "5c9ea18f"
      },
      "outputs": [],
      "source": [
        "from sklearn.model_selection import cross_val_score\n",
        "from sklearn.naive_bayes import GaussianNB\n",
        "from sklearn.linear_model import LogisticRegression\n",
        "from sklearn import tree\n",
        "from sklearn.neighbors import KNeighborsClassifier\n",
        "from sklearn.ensemble import RandomForestClassifier\n",
        "from sklearn.svm import SVC\n",
        "\n"
      ],
      "id": "5c9ea18f"
    },
    {
      "cell_type": "code",
      "execution_count": 48,
      "metadata": {
        "id": "MpDKkELyLYM9",
        "colab": {
          "base_uri": "https://localhost:8080/"
        },
        "outputId": "67738392-1027-41da-bf4e-0540674d21b5"
      },
      "outputs": [
        {
          "output_type": "stream",
          "name": "stdout",
          "text": [
            "[0.68181818 0.72727273 0.81818182 0.86363636 0.90909091 0.90909091\n",
            " 0.86363636 0.81818182 0.90909091 0.77272727]\n",
            "0.8272727272727274\n"
          ]
        }
      ],
      "source": [
        "gnb = GaussianNB()\n",
        "cv = cross_val_score(gnb,X_train_res,y_train_res,cv=10)\n",
        "print(cv)\n",
        "print(cv.mean())"
      ],
      "id": "MpDKkELyLYM9"
    },
    {
      "cell_type": "code",
      "execution_count": 49,
      "metadata": {
        "id": "XiUGfgCfMV6M",
        "colab": {
          "base_uri": "https://localhost:8080/"
        },
        "outputId": "33f5753a-aacf-43e0-9519-c90588f18407"
      },
      "outputs": [
        {
          "output_type": "stream",
          "name": "stdout",
          "text": [
            "[0.63636364 0.63636364 0.81818182 0.77272727 0.59090909 0.90909091\n",
            " 0.81818182 0.59090909 0.59090909 0.90909091]\n",
            "0.7272727272727273\n"
          ]
        }
      ],
      "source": [
        "lr = LogisticRegression(max_iter = 2000)\n",
        "cv = cross_val_score(lr,X_train_res,y_train_res,cv=10)\n",
        "print(cv)\n",
        "print(cv.mean())"
      ],
      "id": "XiUGfgCfMV6M"
    },
    {
      "cell_type": "code",
      "execution_count": 51,
      "metadata": {
        "id": "HNJPqCR6MjfM",
        "colab": {
          "base_uri": "https://localhost:8080/"
        },
        "outputId": "4f5348d4-aaf2-4b9b-b3cf-16c34bdf6758"
      },
      "outputs": [
        {
          "output_type": "stream",
          "name": "stdout",
          "text": [
            "[0.68181818 0.68181818 0.81818182 0.81818182 0.95454545 0.86363636\n",
            " 0.90909091 0.81818182 1.         0.86363636]\n",
            "0.840909090909091\n"
          ]
        }
      ],
      "source": [
        "dt = tree.DecisionTreeClassifier(random_state = 1)\n",
        "cv = cross_val_score(dt,X_train_res,y_train_res,cv=10)\n",
        "print(cv)\n",
        "print(cv.mean())"
      ],
      "id": "HNJPqCR6MjfM"
    },
    {
      "cell_type": "code",
      "execution_count": 53,
      "metadata": {
        "id": "Vawf72TEMt7i",
        "colab": {
          "base_uri": "https://localhost:8080/"
        },
        "outputId": "d59fa4cc-f184-422d-d8cf-bb74b2973411"
      },
      "outputs": [
        {
          "output_type": "stream",
          "name": "stdout",
          "text": [
            "[0.68181818 0.81818182 0.72727273 0.77272727 0.81818182 0.86363636\n",
            " 0.81818182 0.81818182 0.72727273 0.77272727]\n",
            "0.7818181818181819\n"
          ]
        }
      ],
      "source": [
        "knn = KNeighborsClassifier()\n",
        "cv = cross_val_score(knn,X_train_res,y_train_res,cv=10)\n",
        "print(cv)\n",
        "print(cv.mean())"
      ],
      "id": "Vawf72TEMt7i"
    },
    {
      "cell_type": "code",
      "execution_count": 55,
      "metadata": {
        "id": "-XdSO2V0NiXu",
        "colab": {
          "base_uri": "https://localhost:8080/"
        },
        "outputId": "4b5e3644-f8f8-4433-8b9d-f4f141a08918"
      },
      "outputs": [
        {
          "output_type": "stream",
          "name": "stdout",
          "text": [
            "[0.90909091 0.72727273 1.         0.81818182 1.         1.\n",
            " 0.90909091 0.90909091 1.         0.95454545]\n",
            "0.9227272727272728\n"
          ]
        }
      ],
      "source": [
        "rf = RandomForestClassifier(random_state = 1)\n",
        "cv = cross_val_score(rf,X_train_res,y_train_res,cv=10)\n",
        "print(cv)\n",
        "print(cv.mean())"
      ],
      "id": "-XdSO2V0NiXu"
    },
    {
      "cell_type": "code",
      "execution_count": 56,
      "metadata": {
        "id": "-RjBMGFwN5gw",
        "colab": {
          "base_uri": "https://localhost:8080/"
        },
        "outputId": "6f02d071-2485-464e-c4dd-daa132050655"
      },
      "outputs": [
        {
          "output_type": "stream",
          "name": "stdout",
          "text": [
            "[0.59090909 0.54545455 0.59090909 0.54545455 0.54545455 0.59090909\n",
            " 0.54545455 0.5        0.54545455 0.54545455]\n",
            "0.5545454545454545\n"
          ]
        }
      ],
      "source": [
        "svc = SVC(probability = True)\n",
        "cv = cross_val_score(svc,X_train_res,y_train_res,cv=10)\n",
        "print(cv)\n",
        "print(cv.mean())"
      ],
      "id": "-RjBMGFwN5gw"
    },
    {
      "cell_type": "code",
      "execution_count": 57,
      "metadata": {
        "id": "dnvcsxoBN_5-",
        "colab": {
          "base_uri": "https://localhost:8080/"
        },
        "outputId": "57bad4ff-6454-434a-a47a-706e6daf6b28"
      },
      "outputs": [
        {
          "output_type": "stream",
          "name": "stdout",
          "text": [
            "[0.81818182 0.77272727 0.95454545 0.86363636 1.         0.95454545\n",
            " 1.         0.95454545 0.90909091 1.        ]\n",
            "0.9227272727272726\n"
          ]
        }
      ],
      "source": [
        "from xgboost import XGBClassifier\n",
        "xgb = XGBClassifier(random_state =1)\n",
        "cv = cross_val_score(xgb,X_train_res,y_train_res,cv=10)\n",
        "print(cv)\n",
        "print(cv.mean())"
      ],
      "id": "dnvcsxoBN_5-"
    },
    {
      "cell_type": "markdown",
      "source": [
        "Un clasificador de votaciones es un modelo de aprendizaje automático que entrena en un conjunto de numerosos modelos y predice una salida (clase) en función de su probabilidad más alta de clase elegida como salida.\n",
        "Simplemente agrega los resultados de cada clasificador pasado al Clasificador de votaciones y predice la clase de salida en función de la mayoría más alta de votos. La idea es que, en lugar de crear modelos dedicados separados y encontrar la precisión para cada uno de ellos, creamos un solo modelo que entrena con estos modelos y predice la salida en función de su mayoría combinada de votos para cada clase de salida.\n",
        "\n",
        "Voting Classifier admite dos tipos de votaciones.\n",
        "\n",
        "Votación dura: en la votación dura, la clase de salida pronosticada es una clase con la mayoría más alta de votos, es decir, la clase que tenía la probabilidad más alta de ser pronosticada por cada uno de los clasificadores. Supongamos que tres clasificadores predijeron la clase de salida (A, A, B) , por lo que aquí la mayoría predijo A como salida. Por tanto, A será la predicción final.\n",
        "Votación blanda: en la votación blanda, la clase de salida es la predicción basada en el promedio de probabilidad dado a esa clase. Suponga que se le da alguna entrada a tres modelos, la probabilidad de predicción para la clase A = (0.30, 0.47, 0.53) y B = (0.20, 0.32, 0.40) . Entonces, el promedio para la clase A es 0.4333 y B es 0.3067 , el ganador es claramente la clase A porque tenía la probabilidad más alta promediada por cada clasificador.\n"
      ],
      "metadata": {
        "id": "nyFZPBMt2XHo"
      },
      "id": "nyFZPBMt2XHo"
    },
    {
      "cell_type": "code",
      "execution_count": 58,
      "metadata": {
        "id": "G68PWSfJOrZU"
      },
      "outputs": [],
      "source": [
        "#Voting classifier takes all of the inputs and averages the results. For a \"hard\" voting classifier each classifier gets 1 vote \"yes\" or \"no\" and the result is just a popular vote. For this, you generally want odd numbers\n",
        "#A \"soft\" classifier averages the confidence of each of the models. If a the average confidence is > 50% that it is a 1 it will be counted as such\n",
        "\n",
        "from sklearn.ensemble import VotingClassifier\n",
        "voting_clf = VotingClassifier(estimators = [('lr',lr),('knn',knn),('rf',rf),('gnb',gnb),('svc',svc),('xgb',xgb)], voting = 'soft')"
      ],
      "id": "G68PWSfJOrZU"
    },
    {
      "cell_type": "code",
      "execution_count": 59,
      "metadata": {
        "id": "rd_xRuIpOwzv",
        "colab": {
          "base_uri": "https://localhost:8080/"
        },
        "outputId": "277b6979-b9c6-47b6-d4ad-41472794833d"
      },
      "outputs": [
        {
          "output_type": "stream",
          "name": "stdout",
          "text": [
            "[0.86363636 0.86363636 0.95454545 0.86363636 1.         1.\n",
            " 0.90909091 0.95454545 0.95454545 0.86363636]\n",
            "0.9227272727272728\n"
          ]
        }
      ],
      "source": [
        "cv = cross_val_score(voting_clf,X_train_res,y_train_res,cv=10)\n",
        "print(cv)\n",
        "print(cv.mean())"
      ],
      "id": "rd_xRuIpOwzv"
    },
    {
      "cell_type": "code",
      "execution_count": 60,
      "metadata": {
        "id": "ENLEoK2mPA7d"
      },
      "outputs": [],
      "source": [
        "voting_clf.fit(X_train_res,y_train_res)\n",
        "y_hat_base_vc = voting_clf.predict(X_test).astype(int)\n",
        "basic_submission = {'Survived': y_hat_base_vc}\n",
        "base_submission = pd.DataFrame(data=basic_submission)\n",
        "base_submission.to_csv('base_submission.csv', index=False)"
      ],
      "id": "ENLEoK2mPA7d"
    },
    {
      "cell_type": "code",
      "source": [
        "y_hat_base_vc"
      ],
      "metadata": {
        "colab": {
          "base_uri": "https://localhost:8080/"
        },
        "id": "6pk1P0zO28GR",
        "outputId": "d222bca1-02fe-46c9-847b-2d441f21240e"
      },
      "id": "6pk1P0zO28GR",
      "execution_count": 72,
      "outputs": [
        {
          "data": {
            "text/plain": [
              "array([0, 1, 1, 0, 0, 0, 0, 0, 0, 0, 0, 0, 1, 0, 0, 0, 0, 0, 0, 0, 0, 0,\n",
              "       0, 0, 0, 0, 0, 0, 0, 1, 1, 0, 1, 1, 0, 0, 0, 0, 0, 0, 0, 0, 0, 0,\n",
              "       0, 0, 0, 0, 0, 0, 0, 0, 0, 0, 0, 1, 0])"
            ]
          },
          "execution_count": 72,
          "metadata": {},
          "output_type": "execute_result"
        }
      ]
    },
    {
      "cell_type": "code",
      "execution_count": 61,
      "metadata": {
        "id": "Y-CDoyiqSRrC"
      },
      "outputs": [],
      "source": [
        "from sklearn.model_selection import GridSearchCV\n",
        "from sklearn.model_selection import RandomizedSearchCV"
      ],
      "id": "Y-CDoyiqSRrC"
    },
    {
      "cell_type": "code",
      "execution_count": 62,
      "metadata": {
        "id": "0P7fsZAsSVXj"
      },
      "outputs": [],
      "source": [
        "#simple performance reporting function\n",
        "def clf_performance(classifier, model_name):\n",
        "    print(model_name)\n",
        "    print('Best Score: ' + str(classifier.best_score_))\n",
        "    print('Best Parameters: ' + str(classifier.best_params_))"
      ],
      "id": "0P7fsZAsSVXj"
    },
    {
      "cell_type": "code",
      "execution_count": 63,
      "metadata": {
        "id": "lxO1Zuj7Sb7x",
        "colab": {
          "base_uri": "https://localhost:8080/"
        },
        "outputId": "1c150735-f6d3-4fe1-8c11-b81558184d18"
      },
      "outputs": [
        {
          "output_type": "stream",
          "name": "stdout",
          "text": [
            "Fitting 10 folds for each of 40 candidates, totalling 400 fits\n",
            "Logistic Regression\n",
            "Best Score: 0.7318181818181818\n",
            "Best Parameters: {'C': 206.913808111479, 'max_iter': 2000, 'penalty': 'l2', 'solver': 'liblinear'}\n"
          ]
        }
      ],
      "source": [
        "lr = LogisticRegression()\n",
        "param_grid = {'max_iter' : [2000],\n",
        "              'penalty' : ['l1', 'l2'],\n",
        "              'C' : np.logspace(-4, 4, 20),\n",
        "              'solver' : ['liblinear']}\n",
        "\n",
        "clf_lr = GridSearchCV(lr, param_grid = param_grid, cv = 10, verbose = True, n_jobs = -1)\n",
        "best_clf_lr = clf_lr.fit(X_train_res,y_train_res)\n",
        "clf_performance(best_clf_lr,'Logistic Regression')"
      ],
      "id": "lxO1Zuj7Sb7x"
    },
    {
      "cell_type": "code",
      "execution_count": 64,
      "metadata": {
        "id": "EYUs9pU6SvrE",
        "colab": {
          "base_uri": "https://localhost:8080/"
        },
        "outputId": "14b93d77-fcd5-49de-b108-91e5a735e8d6"
      },
      "outputs": [
        {
          "output_type": "stream",
          "name": "stdout",
          "text": [
            "Fitting 10 folds for each of 48 candidates, totalling 480 fits\n",
            "KNN\n",
            "Best Score: 0.8136363636363637\n",
            "Best Parameters: {'algorithm': 'auto', 'n_neighbors': 3, 'p': 1, 'weights': 'distance'}\n"
          ]
        }
      ],
      "source": [
        "knn = KNeighborsClassifier()\n",
        "param_grid = {'n_neighbors' : [3,5,7,9],\n",
        "              'weights' : ['uniform', 'distance'],\n",
        "              'algorithm' : ['auto', 'ball_tree','kd_tree'],\n",
        "              'p' : [1,2]}\n",
        "clf_knn = GridSearchCV(knn, param_grid = param_grid, cv = 10, verbose = True, n_jobs = -1)\n",
        "best_clf_knn = clf_knn.fit(X_train_res,y_train_res)\n",
        "clf_performance(best_clf_knn,'KNN')"
      ],
      "id": "EYUs9pU6SvrE"
    },
    {
      "cell_type": "code",
      "execution_count": 64,
      "metadata": {
        "id": "vUucB-2UaBKm"
      },
      "outputs": [],
      "source": [],
      "id": "vUucB-2UaBKm"
    },
    {
      "cell_type": "code",
      "execution_count": 65,
      "metadata": {
        "id": "ssOnWSYtTEeM",
        "colab": {
          "base_uri": "https://localhost:8080/"
        },
        "outputId": "abcd966e-884a-499e-dac7-d2a9ad75c233"
      },
      "outputs": [
        {
          "output_type": "stream",
          "name": "stdout",
          "text": [
            "Fitting 10 folds for each of 55 candidates, totalling 550 fits\n",
            "SVC\n",
            "Best Score: 0.8954545454545453\n",
            "Best Parameters: {'C': 10, 'gamma': 0.1, 'kernel': 'rbf'}\n"
          ]
        }
      ],
      "source": [
        "svc = SVC(probability = True)\n",
        "param_grid = tuned_parameters = [{'kernel': ['rbf'], 'gamma': [.1,.5,1,2,5,10],\n",
        "                                  'C': [.1, 1, 10, 100, 1000]},\n",
        "                                 {'kernel': ['linear'], 'C': [.1, 1, 10, 100, 1000]},\n",
        "                                 {'kernel': ['poly'], 'degree' : [2,3,4,5], 'C': [.1, 1, 10, 100, 1000]}]\n",
        "clf_svc = GridSearchCV(svc, param_grid = param_grid, cv = 10, verbose = True, n_jobs = -1)\n",
        "best_clf_svc = clf_svc.fit(X_train_res,y_train_res)\n",
        "clf_performance(best_clf_svc,'SVC')"
      ],
      "id": "ssOnWSYtTEeM"
    },
    {
      "cell_type": "code",
      "execution_count": null,
      "metadata": {
        "id": "Zlvvpr2ZUw7K",
        "colab": {
          "base_uri": "https://localhost:8080/"
        },
        "outputId": "93313d5a-d12d-47cb-ec55-740650818e25"
      },
      "outputs": [
        {
          "metadata": {
            "tags": null
          },
          "name": "stdout",
          "output_type": "stream",
          "text": [
            "Fitting 10 folds for each of 192 candidates, totalling 1920 fits\n"
          ]
        }
      ],
      "source": [
        "rf = RandomForestClassifier(random_state = 1)\n",
        "param_grid =  {'n_estimators': [400,450,500,550],\n",
        "               'criterion':['gini','entropy'],\n",
        "                                  'bootstrap': [True],\n",
        "                                  'max_depth': [15, 20, 25],\n",
        "                                  'max_features': ['sqrt', 10],\n",
        "                                  'min_samples_leaf': [2,3],\n",
        "                                  'min_samples_split': [2,3]}\n",
        "\n",
        "clf_rf = GridSearchCV(rf, param_grid = param_grid, cv = 10, verbose = True, n_jobs = -1)\n",
        "best_clf_rf = clf_rf.fit(X_train_res,y_train_res)\n",
        "clf_performance(best_clf_rf,'Random Forest')"
      ],
      "id": "Zlvvpr2ZUw7K"
    },
    {
      "cell_type": "markdown",
      "metadata": {
        "id": "h1jiEx4FcsvF"
      },
      "source": [
        "Mejores estimadores, para los modelos."
      ],
      "id": "h1jiEx4FcsvF"
    },
    {
      "cell_type": "code",
      "execution_count": null,
      "metadata": {
        "id": "gM5E_-OWWYpC"
      },
      "outputs": [],
      "source": [
        "best_rf = best_clf_rf.best_estimator_.fit(X_train_res,y_train_res)\n",
        "feat_importances = pd.Series(best_rf.feature_importances_, index=X_train_res.columns)\n",
        "feat_importances.nlargest(20).plot(kind='barh')"
      ],
      "id": "gM5E_-OWWYpC"
    },
    {
      "cell_type": "code",
      "execution_count": null,
      "metadata": {
        "id": "bdwtQQycdC8B"
      },
      "outputs": [],
      "source": [
        "xgb = XGBClassifier(random_state = 1)\n",
        "\n",
        "param_grid = {\n",
        "    'n_estimators': [450,500,550],\n",
        "    'colsample_bytree': [0.75,0.8,0.85],\n",
        "    'max_depth': [None],\n",
        "    'reg_alpha': [1],\n",
        "    'reg_lambda': [2, 5, 10],\n",
        "    'subsample': [0.55, 0.6, .65],\n",
        "    'learning_rate':[0.5],\n",
        "    'gamma':[.5,1,2],\n",
        "    'min_child_weight':[0.01],\n",
        "    'sampling_method': ['uniform']\n",
        "}\n",
        "\n",
        "clf_xgb = GridSearchCV(xgb, param_grid = param_grid, cv = 10, verbose = True, n_jobs = -1)\n",
        "best_clf_xgb = clf_xgb.fit(X_train_res,y_train_res)\n",
        "clf_performance(best_clf_xgb,'XGB')"
      ],
      "id": "bdwtQQycdC8B"
    },
    {
      "cell_type": "code",
      "execution_count": null,
      "metadata": {
        "id": "wHSa5FREg57d"
      },
      "outputs": [],
      "source": [
        "best_lr = best_clf_lr.best_estimator_\n",
        "best_knn = best_clf_knn.best_estimator_\n",
        "best_svc = best_clf_svc.best_estimator_\n",
        "best_rf = best_clf_rf.best_estimator_\n",
        "best_xgb = best_clf_xgb.best_estimator_\n",
        "\n",
        "voting_clf_hard = VotingClassifier(estimators = [('knn',best_knn),('rf',best_rf),('svc',best_svc)], voting = 'hard')\n",
        "voting_clf_soft = VotingClassifier(estimators = [('knn',best_knn),('rf',best_rf),('svc',best_svc)], voting = 'soft')\n",
        "voting_clf_all = VotingClassifier(estimators = [('knn',best_knn),('rf',best_rf),('svc',best_svc), ('lr', best_lr)], voting = 'soft')\n",
        "voting_clf_xgb = VotingClassifier(estimators = [('knn',best_knn),('rf',best_rf),('svc',best_svc), ('xgb', best_xgb),('lr', best_lr)], voting = 'soft')\n",
        "\n",
        "print('voting_clf_hard :',cross_val_score(voting_clf_hard,X_train,y_train,cv=5))\n",
        "print('voting_clf_hard mean :',cross_val_score(voting_clf_hard,X_train,y_train,cv=5).mean())\n",
        "\n",
        "print('voting_clf_soft :',cross_val_score(voting_clf_soft,X_train,y_train,cv=5))\n",
        "print('voting_clf_soft mean :',cross_val_score(voting_clf_soft,X_train,y_train,cv=5).mean())\n",
        "\n",
        "print('voting_clf_all :',cross_val_score(voting_clf_all,X_train,y_train,cv=5))\n",
        "print('voting_clf_all mean :',cross_val_score(voting_clf_all,X_train,y_train,cv=5).mean())\n",
        "\n",
        "print('voting_clf_xgb :',cross_val_score(voting_clf_xgb,X_train,y_train,cv=5))\n",
        "print('voting_clf_xgb mean :',cross_val_score(voting_clf_xgb,X_train,y_train,cv=5).mean())"
      ],
      "id": "wHSa5FREg57d"
    },
    {
      "cell_type": "code",
      "execution_count": null,
      "metadata": {
        "id": "GEB3wh26hhVo"
      },
      "outputs": [],
      "source": [
        "#Make Predictions\n",
        "voting_clf_hard.fit(X_train_res, y_train_res)\n",
        "voting_clf_soft.fit(X_train_res, y_train_res)\n",
        "voting_clf_all.fit(X_train_res, y_train_res)\n",
        "voting_clf_xgb.fit(X_train_res, y_train_res)\n",
        "\n",
        "best_rf.fit(X_train_res, y_train_res)\n",
        "y_hat_vc_hard = voting_clf_hard.predict(X_test).astype(int)\n",
        "y_hat_rf = best_rf.predict(X_test).astype(int)\n",
        "y_hat_vc_soft =  voting_clf_soft.predict(X_test).astype(int)\n",
        "y_hat_vc_all = voting_clf_all.predict(X_test).astype(int)\n",
        "y_hat_vc_xgb = voting_clf_xgb.predict(X_test).astype(int)"
      ],
      "id": "GEB3wh26hhVo"
    },
    {
      "cell_type": "code",
      "source": [
        "#convert output to dataframe\n",
        "final_data = { 'Survived': y_hat_rf}\n",
        "submission = pd.DataFrame(data=final_data)\n",
        "\n",
        "final_data_2 = { 'Survived': y_hat_vc_hard}\n",
        "submission_2 = pd.DataFrame(data=final_data_2)\n",
        "\n",
        "final_data_3 = { 'Survived': y_hat_vc_soft}\n",
        "submission_3 = pd.DataFrame(data=final_data_3)\n",
        "\n",
        "final_data_4 = { 'Survived': y_hat_vc_all}\n",
        "submission_4 = pd.DataFrame(data=final_data_4)\n",
        "\n",
        "final_data_5 = { 'Survived': y_hat_vc_xgb}\n",
        "submission_5 = pd.DataFrame(data=final_data_5)\n",
        "\n",
        "final_data_comp = {'Survived_vc_hard': y_hat_vc_hard, 'Survived_rf': y_hat_rf, 'Survived_vc_soft' : y_hat_vc_soft, 'Survived_vc_all' : y_hat_vc_all,  'Survived_vc_xgb' : y_hat_vc_xgb}\n",
        "comparison = pd.DataFrame(data=final_data_comp)"
      ],
      "metadata": {
        "id": "2-61wlOu_D4O"
      },
      "id": "2-61wlOu_D4O",
      "execution_count": null,
      "outputs": []
    },
    {
      "cell_type": "code",
      "source": [],
      "metadata": {
        "id": "l6aP6qd1x8pu"
      },
      "id": "l6aP6qd1x8pu",
      "execution_count": null,
      "outputs": []
    }
  ],
  "metadata": {
    "colab": {
      "provenance": [],
      "include_colab_link": true
    },
    "kernelspec": {
      "display_name": "Python 3 (ipykernel)",
      "language": "python",
      "name": "python3"
    },
    "language_info": {
      "codemirror_mode": {
        "name": "ipython",
        "version": 3
      },
      "file_extension": ".py",
      "mimetype": "text/x-python",
      "name": "python",
      "nbconvert_exporter": "python",
      "pygments_lexer": "ipython3",
      "version": "3.9.7"
    }
  },
  "nbformat": 4,
  "nbformat_minor": 5
}